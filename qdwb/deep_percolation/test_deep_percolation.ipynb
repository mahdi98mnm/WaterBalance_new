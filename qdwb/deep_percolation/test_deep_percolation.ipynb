{
 "cells": [
  {
   "cell_type": "markdown",
   "metadata": {},
   "source": [
    "## Check\n",
    "#### Test Ckeck Soil Water"
   ]
  },
  {
   "cell_type": "code",
   "execution_count": 1,
   "metadata": {},
   "outputs": [],
   "source": [
    "from deep_percolation import *\n",
    "check_soil_water(soil_water = 30)"
   ]
  },
  {
   "cell_type": "code",
   "execution_count": 2,
   "metadata": {},
   "outputs": [
    {
     "ename": "ValueError",
     "evalue": "You can not enter a negative value",
     "output_type": "error",
     "traceback": [
      "\u001b[0;31m---------------------------------------------------------------------------\u001b[0m",
      "\u001b[0;31mValueError\u001b[0m                                Traceback (most recent call last)",
      "\u001b[1;32m/home/mahdi/QDWB/qdwb/deep_percolation/test_deep_percolation.ipynb Cell 3\u001b[0m in \u001b[0;36m<cell line: 1>\u001b[0;34m()\u001b[0m\n\u001b[0;32m----> <a href='vscode-notebook-cell://wsl%2Bubuntu/home/mahdi/QDWB/qdwb/deep_percolation/test_deep_percolation.ipynb#W3sdnNjb2RlLXJlbW90ZQ%3D%3D?line=0'>1</a>\u001b[0m check_soil_water(soil_water \u001b[39m=\u001b[39;49m \u001b[39m-\u001b[39;49m\u001b[39m10\u001b[39;49m)\n",
      "File \u001b[0;32m~/QDWB/qdwb/deep_percolation/check.py:18\u001b[0m, in \u001b[0;36mcheck_soil_water\u001b[0;34m(soil_water)\u001b[0m\n\u001b[1;32m     16\u001b[0m     soil_water \u001b[39m=\u001b[39m soil_water\n\u001b[1;32m     17\u001b[0m \u001b[39melse\u001b[39;00m:\n\u001b[0;32m---> 18\u001b[0m     \u001b[39mraise\u001b[39;00m \u001b[39mValueError\u001b[39;00m(\u001b[39m\"\u001b[39m\u001b[39mYou can not enter a negative value\u001b[39m\u001b[39m\"\u001b[39m)\n",
      "\u001b[0;31mValueError\u001b[0m: You can not enter a negative value"
     ]
    }
   ],
   "source": [
    "check_soil_water(soil_water = -10)"
   ]
  },
  {
   "cell_type": "markdown",
   "metadata": {},
   "source": [
    "#### Test Ckeck Feild Capacity"
   ]
  },
  {
   "cell_type": "code",
   "execution_count": 3,
   "metadata": {},
   "outputs": [],
   "source": [
    "check_feild_capacity(feild_capacity = 50)"
   ]
  },
  {
   "cell_type": "code",
   "execution_count": 4,
   "metadata": {},
   "outputs": [
    {
     "ename": "ValueError",
     "evalue": "The value entered must be between 0 and 100%",
     "output_type": "error",
     "traceback": [
      "\u001b[0;31m---------------------------------------------------------------------------\u001b[0m",
      "\u001b[0;31mValueError\u001b[0m                                Traceback (most recent call last)",
      "\u001b[1;32m/home/mahdi/QDWB/qdwb/deep_percolation/test_deep_percolation.ipynb Cell 6\u001b[0m in \u001b[0;36m<cell line: 1>\u001b[0;34m()\u001b[0m\n\u001b[0;32m----> <a href='vscode-notebook-cell://wsl%2Bubuntu/home/mahdi/QDWB/qdwb/deep_percolation/test_deep_percolation.ipynb#X11sdnNjb2RlLXJlbW90ZQ%3D%3D?line=0'>1</a>\u001b[0m check_feild_capacity(feild_capacity \u001b[39m=\u001b[39;49m \u001b[39m120\u001b[39;49m)\n",
      "File \u001b[0;32m~/QDWB/qdwb/deep_percolation/check.py:37\u001b[0m, in \u001b[0;36mcheck_feild_capacity\u001b[0;34m(feild_capacity)\u001b[0m\n\u001b[1;32m     35\u001b[0m     feild_capacity \u001b[39m=\u001b[39m feild_capacity\n\u001b[1;32m     36\u001b[0m \u001b[39melse\u001b[39;00m:\n\u001b[0;32m---> 37\u001b[0m     \u001b[39mraise\u001b[39;00m \u001b[39mValueError\u001b[39;00m(\u001b[39m\"\u001b[39m\u001b[39mThe value entered must be between 0 and 100\u001b[39m\u001b[39m%\u001b[39m\u001b[39m\"\u001b[39m)\n",
      "\u001b[0;31mValueError\u001b[0m: The value entered must be between 0 and 100%"
     ]
    }
   ],
   "source": [
    "check_feild_capacity(feild_capacity = 120)"
   ]
  },
  {
   "cell_type": "code",
   "execution_count": 5,
   "metadata": {},
   "outputs": [
    {
     "ename": "ValueError",
     "evalue": "The value entered must be between 0 and 100%",
     "output_type": "error",
     "traceback": [
      "\u001b[0;31m---------------------------------------------------------------------------\u001b[0m",
      "\u001b[0;31mValueError\u001b[0m                                Traceback (most recent call last)",
      "\u001b[1;32m/home/mahdi/QDWB/qdwb/deep_percolation/test_deep_percolation.ipynb Cell 7\u001b[0m in \u001b[0;36m<cell line: 1>\u001b[0;34m()\u001b[0m\n\u001b[0;32m----> <a href='vscode-notebook-cell://wsl%2Bubuntu/home/mahdi/QDWB/qdwb/deep_percolation/test_deep_percolation.ipynb#X12sdnNjb2RlLXJlbW90ZQ%3D%3D?line=0'>1</a>\u001b[0m check_feild_capacity(feild_capacity \u001b[39m=\u001b[39;49m \u001b[39m-\u001b[39;49m\u001b[39m10\u001b[39;49m)\n",
      "File \u001b[0;32m~/QDWB/qdwb/deep_percolation/check.py:37\u001b[0m, in \u001b[0;36mcheck_feild_capacity\u001b[0;34m(feild_capacity)\u001b[0m\n\u001b[1;32m     35\u001b[0m     feild_capacity \u001b[39m=\u001b[39m feild_capacity\n\u001b[1;32m     36\u001b[0m \u001b[39melse\u001b[39;00m:\n\u001b[0;32m---> 37\u001b[0m     \u001b[39mraise\u001b[39;00m \u001b[39mValueError\u001b[39;00m(\u001b[39m\"\u001b[39m\u001b[39mThe value entered must be between 0 and 100\u001b[39m\u001b[39m%\u001b[39m\u001b[39m\"\u001b[39m)\n",
      "\u001b[0;31mValueError\u001b[0m: The value entered must be between 0 and 100%"
     ]
    }
   ],
   "source": [
    "check_feild_capacity(feild_capacity = -10)"
   ]
  },
  {
   "cell_type": "markdown",
   "metadata": {},
   "source": [
    "#### Test Ckeck Geology Permeability"
   ]
  },
  {
   "cell_type": "code",
   "execution_count": 6,
   "metadata": {},
   "outputs": [],
   "source": [
    "check_geology_permeability(geology_permeability = 0.35)"
   ]
  },
  {
   "cell_type": "code",
   "execution_count": 7,
   "metadata": {},
   "outputs": [
    {
     "ename": "ValueError",
     "evalue": "The value entered must be between 0 and 1",
     "output_type": "error",
     "traceback": [
      "\u001b[0;31m---------------------------------------------------------------------------\u001b[0m",
      "\u001b[0;31mValueError\u001b[0m                                Traceback (most recent call last)",
      "\u001b[1;32m/home/mahdi/QDWB/qdwb/deep_percolation/test_deep_percolation.ipynb Cell 10\u001b[0m in \u001b[0;36m<cell line: 1>\u001b[0;34m()\u001b[0m\n\u001b[0;32m----> <a href='vscode-notebook-cell://wsl%2Bubuntu/home/mahdi/QDWB/qdwb/deep_percolation/test_deep_percolation.ipynb#X16sdnNjb2RlLXJlbW90ZQ%3D%3D?line=0'>1</a>\u001b[0m check_geology_permeability(geology_permeability \u001b[39m=\u001b[39;49m \u001b[39m-\u001b[39;49m\u001b[39m0.1\u001b[39;49m)\n",
      "File \u001b[0;32m~/QDWB/qdwb/deep_percolation/check.py:56\u001b[0m, in \u001b[0;36mcheck_geology_permeability\u001b[0;34m(geology_permeability)\u001b[0m\n\u001b[1;32m     54\u001b[0m     geology_permeability \u001b[39m=\u001b[39m geology_permeability\n\u001b[1;32m     55\u001b[0m \u001b[39melse\u001b[39;00m:\n\u001b[0;32m---> 56\u001b[0m     \u001b[39mraise\u001b[39;00m \u001b[39mValueError\u001b[39;00m(\u001b[39m\"\u001b[39m\u001b[39mThe value entered must be between 0 and 1\u001b[39m\u001b[39m\"\u001b[39m)\n",
      "\u001b[0;31mValueError\u001b[0m: The value entered must be between 0 and 1"
     ]
    }
   ],
   "source": [
    "check_geology_permeability(geology_permeability = -0.1)"
   ]
  },
  {
   "cell_type": "code",
   "execution_count": 8,
   "metadata": {},
   "outputs": [
    {
     "ename": "ValueError",
     "evalue": "The value entered must be between 0 and 1",
     "output_type": "error",
     "traceback": [
      "\u001b[0;31m---------------------------------------------------------------------------\u001b[0m",
      "\u001b[0;31mValueError\u001b[0m                                Traceback (most recent call last)",
      "\u001b[1;32m/home/mahdi/QDWB/qdwb/deep_percolation/test_deep_percolation.ipynb Cell 11\u001b[0m in \u001b[0;36m<cell line: 1>\u001b[0;34m()\u001b[0m\n\u001b[0;32m----> <a href='vscode-notebook-cell://wsl%2Bubuntu/home/mahdi/QDWB/qdwb/deep_percolation/test_deep_percolation.ipynb#X20sdnNjb2RlLXJlbW90ZQ%3D%3D?line=0'>1</a>\u001b[0m check_geology_permeability(geology_permeability \u001b[39m=\u001b[39;49m \u001b[39m1.65\u001b[39;49m)\n",
      "File \u001b[0;32m~/QDWB/qdwb/deep_percolation/check.py:56\u001b[0m, in \u001b[0;36mcheck_geology_permeability\u001b[0;34m(geology_permeability)\u001b[0m\n\u001b[1;32m     54\u001b[0m     geology_permeability \u001b[39m=\u001b[39m geology_permeability\n\u001b[1;32m     55\u001b[0m \u001b[39melse\u001b[39;00m:\n\u001b[0;32m---> 56\u001b[0m     \u001b[39mraise\u001b[39;00m \u001b[39mValueError\u001b[39;00m(\u001b[39m\"\u001b[39m\u001b[39mThe value entered must be between 0 and 1\u001b[39m\u001b[39m\"\u001b[39m)\n",
      "\u001b[0;31mValueError\u001b[0m: The value entered must be between 0 and 1"
     ]
    }
   ],
   "source": [
    "check_geology_permeability(geology_permeability = 1.65)"
   ]
  },
  {
   "cell_type": "markdown",
   "metadata": {},
   "source": [
    "#### Test Ckeck Depth Soil"
   ]
  },
  {
   "cell_type": "code",
   "execution_count": 9,
   "metadata": {},
   "outputs": [],
   "source": [
    "check_depth_soil(depth_soil = 30)"
   ]
  },
  {
   "cell_type": "code",
   "execution_count": 10,
   "metadata": {},
   "outputs": [
    {
     "ename": "ValueError",
     "evalue": "You can not enter a negative value",
     "output_type": "error",
     "traceback": [
      "\u001b[0;31m---------------------------------------------------------------------------\u001b[0m",
      "\u001b[0;31mValueError\u001b[0m                                Traceback (most recent call last)",
      "\u001b[1;32m/home/mahdi/QDWB/qdwb/deep_percolation/test_deep_percolation.ipynb Cell 14\u001b[0m in \u001b[0;36m<cell line: 1>\u001b[0;34m()\u001b[0m\n\u001b[0;32m----> <a href='vscode-notebook-cell://wsl%2Bubuntu/home/mahdi/QDWB/qdwb/deep_percolation/test_deep_percolation.ipynb#X24sdnNjb2RlLXJlbW90ZQ%3D%3D?line=0'>1</a>\u001b[0m check_depth_soil(depth_soil \u001b[39m=\u001b[39;49m \u001b[39m-\u001b[39;49m\u001b[39m15\u001b[39;49m)\n",
      "File \u001b[0;32m~/QDWB/qdwb/deep_percolation/check.py:74\u001b[0m, in \u001b[0;36mcheck_depth_soil\u001b[0;34m(depth_soil)\u001b[0m\n\u001b[1;32m     72\u001b[0m     depth_soil \u001b[39m=\u001b[39m depth_soil\n\u001b[1;32m     73\u001b[0m \u001b[39melse\u001b[39;00m:\n\u001b[0;32m---> 74\u001b[0m     \u001b[39mraise\u001b[39;00m \u001b[39mValueError\u001b[39;00m(\u001b[39m\"\u001b[39m\u001b[39mYou can not enter a negative value\u001b[39m\u001b[39m\"\u001b[39m)\n",
      "\u001b[0;31mValueError\u001b[0m: You can not enter a negative value"
     ]
    }
   ],
   "source": [
    "check_depth_soil(depth_soil = -15)"
   ]
  },
  {
   "cell_type": "markdown",
   "metadata": {},
   "source": [
    "## CalculationDeepPerculatoin\n",
    "#### Test Calculate Deep Perculation Function"
   ]
  },
  {
   "cell_type": "code",
   "execution_count": 11,
   "metadata": {},
   "outputs": [
    {
     "data": {
      "text/plain": [
       "(25.0, 75.0)"
      ]
     },
     "execution_count": 11,
     "metadata": {},
     "output_type": "execute_result"
    }
   ],
   "source": [
    "DeepPerculatoin.inital_deep_perculation(\n",
    "    feild_capacity = 30,\n",
    "    soil_water = 100,\n",
    "    depth_soil = 25\n",
    ")"
   ]
  },
  {
   "cell_type": "code",
   "execution_count": 12,
   "metadata": {},
   "outputs": [
    {
     "data": {
      "text/plain": [
       "(0, 50)"
      ]
     },
     "execution_count": 12,
     "metadata": {},
     "output_type": "execute_result"
    }
   ],
   "source": [
    "DeepPerculatoin.inital_deep_perculation(\n",
    "    feild_capacity = 30,\n",
    "    soil_water = 50,\n",
    "    depth_soil = 25\n",
    ")"
   ]
  },
  {
   "cell_type": "code",
   "execution_count": 2,
   "metadata": {},
   "outputs": [
    {
     "ename": "ValueError",
     "evalue": "The value entered must be between 0 and 100%",
     "output_type": "error",
     "traceback": [
      "\u001b[0;31m---------------------------------------------------------------------------\u001b[0m",
      "\u001b[0;31mValueError\u001b[0m                                Traceback (most recent call last)",
      "\u001b[1;32m/home/mahdi/QDWB/qdwb/deep_percolation/test_deep_percolation.ipynb Cell 18\u001b[0m in \u001b[0;36m<cell line: 1>\u001b[0;34m()\u001b[0m\n\u001b[0;32m----> <a href='vscode-notebook-cell://wsl%2Bubuntu/home/mahdi/QDWB/qdwb/deep_percolation/test_deep_percolation.ipynb#X23sdnNjb2RlLXJlbW90ZQ%3D%3D?line=0'>1</a>\u001b[0m DeepPerculatoin\u001b[39m.\u001b[39;49minital_deep_perculation(\n\u001b[1;32m      <a href='vscode-notebook-cell://wsl%2Bubuntu/home/mahdi/QDWB/qdwb/deep_percolation/test_deep_percolation.ipynb#X23sdnNjb2RlLXJlbW90ZQ%3D%3D?line=1'>2</a>\u001b[0m     feild_capacity \u001b[39m=\u001b[39;49m \u001b[39m130\u001b[39;49m,\n\u001b[1;32m      <a href='vscode-notebook-cell://wsl%2Bubuntu/home/mahdi/QDWB/qdwb/deep_percolation/test_deep_percolation.ipynb#X23sdnNjb2RlLXJlbW90ZQ%3D%3D?line=2'>3</a>\u001b[0m     soil_water \u001b[39m=\u001b[39;49m \u001b[39m100\u001b[39;49m,\n\u001b[1;32m      <a href='vscode-notebook-cell://wsl%2Bubuntu/home/mahdi/QDWB/qdwb/deep_percolation/test_deep_percolation.ipynb#X23sdnNjb2RlLXJlbW90ZQ%3D%3D?line=3'>4</a>\u001b[0m     depth_soil \u001b[39m=\u001b[39;49m \u001b[39m25\u001b[39;49m\n\u001b[1;32m      <a href='vscode-notebook-cell://wsl%2Bubuntu/home/mahdi/QDWB/qdwb/deep_percolation/test_deep_percolation.ipynb#X23sdnNjb2RlLXJlbW90ZQ%3D%3D?line=4'>5</a>\u001b[0m )\n",
      "File \u001b[0;32m~/QDWB/qdwb/deep_percolation/deep_percolation.py:55\u001b[0m, in \u001b[0;36mDeepPerculatoin.inital_deep_perculation\u001b[0;34m(feild_capacity, soil_water, depth_soil)\u001b[0m\n\u001b[1;32m     27\u001b[0m \u001b[39m\"\"\"\u001b[39;00m\n\u001b[1;32m     28\u001b[0m \u001b[39mDescription\u001b[39;00m\n\u001b[1;32m     29\u001b[0m \u001b[39m-----------\u001b[39;00m\n\u001b[0;32m   (...)\u001b[0m\n\u001b[1;32m     51\u001b[0m \u001b[39m    Deep penetration of the transitional layer of soil in mm\u001b[39;00m\n\u001b[1;32m     52\u001b[0m \u001b[39m\"\"\"\u001b[39;00m\n\u001b[1;32m     54\u001b[0m check_soil_water(soil_water \u001b[39m=\u001b[39m soil_water)\n\u001b[0;32m---> 55\u001b[0m check_feild_capacity(feild_capacity \u001b[39m=\u001b[39;49m feild_capacity)\n\u001b[1;32m     56\u001b[0m check_depth_soil(depth_soil \u001b[39m=\u001b[39m depth_soil)\n\u001b[1;32m     58\u001b[0m feild_capacity \u001b[39m=\u001b[39m (feild_capacity \u001b[39m/\u001b[39m \u001b[39m100\u001b[39m) \u001b[39m*\u001b[39m depth_soil \u001b[39m*\u001b[39m \u001b[39m10\u001b[39m\n",
      "File \u001b[0;32m~/QDWB/qdwb/deep_percolation/check.py:37\u001b[0m, in \u001b[0;36mcheck_feild_capacity\u001b[0;34m(feild_capacity)\u001b[0m\n\u001b[1;32m     35\u001b[0m     feild_capacity \u001b[39m=\u001b[39m feild_capacity\n\u001b[1;32m     36\u001b[0m \u001b[39melse\u001b[39;00m:\n\u001b[0;32m---> 37\u001b[0m     \u001b[39mraise\u001b[39;00m \u001b[39mValueError\u001b[39;00m(\u001b[39m\"\u001b[39m\u001b[39mThe value entered must be between 0 and 100\u001b[39m\u001b[39m%\u001b[39m\u001b[39m\"\u001b[39m)\n",
      "\u001b[0;31mValueError\u001b[0m: The value entered must be between 0 and 100%"
     ]
    }
   ],
   "source": [
    "DeepPerculatoin.inital_deep_perculation(\n",
    "    feild_capacity = 130,\n",
    "    soil_water = 100,\n",
    "    depth_soil = 25\n",
    ")"
   ]
  },
  {
   "cell_type": "markdown",
   "metadata": {},
   "source": [
    "#### Test Calculate Correction Deep Perculation Function"
   ]
  },
  {
   "cell_type": "code",
   "execution_count": 3,
   "metadata": {},
   "outputs": [
    {
     "data": {
      "text/plain": [
       "0.0"
      ]
     },
     "execution_count": 3,
     "metadata": {},
     "output_type": "execute_result"
    }
   ],
   "source": [
    "DeepPerculatoin.correction_deep_perculation(\n",
    "        feild_capacity = 30, \n",
    "        soil_water = 50,\n",
    "        depth_soil = 25,\n",
    "        geology_permeability = 0.3\n",
    ")"
   ]
  },
  {
   "cell_type": "code",
   "execution_count": 4,
   "metadata": {},
   "outputs": [
    {
     "data": {
      "text/plain": [
       "17.5"
      ]
     },
     "execution_count": 4,
     "metadata": {},
     "output_type": "execute_result"
    }
   ],
   "source": [
    "DeepPerculatoin.correction_deep_perculation(\n",
    "        feild_capacity = 30, \n",
    "        soil_water = 100,\n",
    "        depth_soil = 25,\n",
    "        geology_permeability = 0.3\n",
    ")"
   ]
  },
  {
   "cell_type": "code",
   "execution_count": 5,
   "metadata": {},
   "outputs": [
    {
     "ename": "ValueError",
     "evalue": "The value entered must be between 0 and 1",
     "output_type": "error",
     "traceback": [
      "\u001b[0;31m---------------------------------------------------------------------------\u001b[0m",
      "\u001b[0;31mValueError\u001b[0m                                Traceback (most recent call last)",
      "\u001b[1;32m/home/mahdi/QDWB/qdwb/deep_percolation/test_deep_percolation.ipynb Cell 22\u001b[0m in \u001b[0;36m<cell line: 1>\u001b[0;34m()\u001b[0m\n\u001b[0;32m----> <a href='vscode-notebook-cell://wsl%2Bubuntu/home/mahdi/QDWB/qdwb/deep_percolation/test_deep_percolation.ipynb#X31sdnNjb2RlLXJlbW90ZQ%3D%3D?line=0'>1</a>\u001b[0m DeepPerculatoin\u001b[39m.\u001b[39;49mcorrection_deep_perculation(\n\u001b[1;32m      <a href='vscode-notebook-cell://wsl%2Bubuntu/home/mahdi/QDWB/qdwb/deep_percolation/test_deep_percolation.ipynb#X31sdnNjb2RlLXJlbW90ZQ%3D%3D?line=1'>2</a>\u001b[0m         feild_capacity \u001b[39m=\u001b[39;49m \u001b[39m30\u001b[39;49m, \n\u001b[1;32m      <a href='vscode-notebook-cell://wsl%2Bubuntu/home/mahdi/QDWB/qdwb/deep_percolation/test_deep_percolation.ipynb#X31sdnNjb2RlLXJlbW90ZQ%3D%3D?line=2'>3</a>\u001b[0m         soil_water \u001b[39m=\u001b[39;49m \u001b[39m50\u001b[39;49m,\n\u001b[1;32m      <a href='vscode-notebook-cell://wsl%2Bubuntu/home/mahdi/QDWB/qdwb/deep_percolation/test_deep_percolation.ipynb#X31sdnNjb2RlLXJlbW90ZQ%3D%3D?line=3'>4</a>\u001b[0m         depth_soil \u001b[39m=\u001b[39;49m \u001b[39m25\u001b[39;49m,\n\u001b[1;32m      <a href='vscode-notebook-cell://wsl%2Bubuntu/home/mahdi/QDWB/qdwb/deep_percolation/test_deep_percolation.ipynb#X31sdnNjb2RlLXJlbW90ZQ%3D%3D?line=4'>5</a>\u001b[0m         geology_permeability \u001b[39m=\u001b[39;49m \u001b[39m-\u001b[39;49m\u001b[39m0.1\u001b[39;49m\n\u001b[1;32m      <a href='vscode-notebook-cell://wsl%2Bubuntu/home/mahdi/QDWB/qdwb/deep_percolation/test_deep_percolation.ipynb#X31sdnNjb2RlLXJlbW90ZQ%3D%3D?line=5'>6</a>\u001b[0m )\n",
      "File \u001b[0;32m~/QDWB/qdwb/deep_percolation/deep_percolation.py:113\u001b[0m, in \u001b[0;36mDeepPerculatoin.correction_deep_perculation\u001b[0;34m(feild_capacity, soil_water, depth_soil, geology_permeability)\u001b[0m\n\u001b[1;32m    111\u001b[0m check_feild_capacity(feild_capacity \u001b[39m=\u001b[39m feild_capacity)\n\u001b[1;32m    112\u001b[0m check_depth_soil(depth_soil \u001b[39m=\u001b[39m depth_soil)\n\u001b[0;32m--> 113\u001b[0m check_geology_permeability(geology_permeability \u001b[39m=\u001b[39;49m geology_permeability)\n\u001b[1;32m    115\u001b[0m inital_deep_perculation \u001b[39m=\u001b[39m DeepPerculatoin\u001b[39m.\u001b[39minital_deep_perculation(\n\u001b[1;32m    116\u001b[0m     feild_capacity \u001b[39m=\u001b[39m feild_capacity, \n\u001b[1;32m    117\u001b[0m     soil_water \u001b[39m=\u001b[39m soil_water,\n\u001b[1;32m    118\u001b[0m     depth_soil \u001b[39m=\u001b[39m depth_soil\n\u001b[1;32m    119\u001b[0m )\n\u001b[1;32m    122\u001b[0m corrected_deep_perculation \u001b[39m=\u001b[39m inital_deep_perculation[\u001b[39m0\u001b[39m] \u001b[39m*\u001b[39m (\u001b[39m1\u001b[39m \u001b[39m-\u001b[39m geology_permeability)\n",
      "File \u001b[0;32m~/QDWB/qdwb/deep_percolation/check.py:56\u001b[0m, in \u001b[0;36mcheck_geology_permeability\u001b[0;34m(geology_permeability)\u001b[0m\n\u001b[1;32m     54\u001b[0m     geology_permeability \u001b[39m=\u001b[39m geology_permeability\n\u001b[1;32m     55\u001b[0m \u001b[39melse\u001b[39;00m:\n\u001b[0;32m---> 56\u001b[0m     \u001b[39mraise\u001b[39;00m \u001b[39mValueError\u001b[39;00m(\u001b[39m\"\u001b[39m\u001b[39mThe value entered must be between 0 and 1\u001b[39m\u001b[39m\"\u001b[39m)\n",
      "\u001b[0;31mValueError\u001b[0m: The value entered must be between 0 and 1"
     ]
    }
   ],
   "source": [
    "DeepPerculatoin.correction_deep_perculation(\n",
    "        feild_capacity = 30, \n",
    "        soil_water = 50,\n",
    "        depth_soil = 25,\n",
    "        geology_permeability = -0.1\n",
    ")\n"
   ]
  },
  {
   "cell_type": "markdown",
   "metadata": {},
   "source": [
    "#### Test Calculate Late Runoff Function"
   ]
  },
  {
   "cell_type": "code",
   "execution_count": 6,
   "metadata": {},
   "outputs": [
    {
     "data": {
      "text/plain": [
       "7.5"
      ]
     },
     "execution_count": 6,
     "metadata": {},
     "output_type": "execute_result"
    }
   ],
   "source": [
    "DeepPerculatoin.late_runoff(\n",
    "    feild_capacity = 30, \n",
    "    soil_water = 100,\n",
    "    depth_soil = 25,\n",
    "    geology_permeability = 0.3\n",
    ")"
   ]
  },
  {
   "cell_type": "code",
   "execution_count": 7,
   "metadata": {},
   "outputs": [
    {
     "data": {
      "text/plain": [
       "0.0"
      ]
     },
     "execution_count": 7,
     "metadata": {},
     "output_type": "execute_result"
    }
   ],
   "source": [
    "DeepPerculatoin.late_runoff(\n",
    "    feild_capacity = 30, \n",
    "    soil_water = 50,\n",
    "    depth_soil = 25,\n",
    "    geology_permeability = 0.3\n",
    ")\n"
   ]
  },
  {
   "cell_type": "code",
   "execution_count": 8,
   "metadata": {},
   "outputs": [
    {
     "ename": "ValueError",
     "evalue": "The value entered must be between 0 and 1",
     "output_type": "error",
     "traceback": [
      "\u001b[0;31m---------------------------------------------------------------------------\u001b[0m",
      "\u001b[0;31mValueError\u001b[0m                                Traceback (most recent call last)",
      "\u001b[1;32m/home/mahdi/QDWB/qdwb/deep_percolation/test_deep_percolation.ipynb Cell 26\u001b[0m in \u001b[0;36m<cell line: 1>\u001b[0;34m()\u001b[0m\n\u001b[0;32m----> <a href='vscode-notebook-cell://wsl%2Bubuntu/home/mahdi/QDWB/qdwb/deep_percolation/test_deep_percolation.ipynb#X36sdnNjb2RlLXJlbW90ZQ%3D%3D?line=0'>1</a>\u001b[0m DeepPerculatoin\u001b[39m.\u001b[39;49mlate_runoff(\n\u001b[1;32m      <a href='vscode-notebook-cell://wsl%2Bubuntu/home/mahdi/QDWB/qdwb/deep_percolation/test_deep_percolation.ipynb#X36sdnNjb2RlLXJlbW90ZQ%3D%3D?line=1'>2</a>\u001b[0m     feild_capacity \u001b[39m=\u001b[39;49m \u001b[39m30\u001b[39;49m, \n\u001b[1;32m      <a href='vscode-notebook-cell://wsl%2Bubuntu/home/mahdi/QDWB/qdwb/deep_percolation/test_deep_percolation.ipynb#X36sdnNjb2RlLXJlbW90ZQ%3D%3D?line=2'>3</a>\u001b[0m     soil_water \u001b[39m=\u001b[39;49m \u001b[39m100\u001b[39;49m,\n\u001b[1;32m      <a href='vscode-notebook-cell://wsl%2Bubuntu/home/mahdi/QDWB/qdwb/deep_percolation/test_deep_percolation.ipynb#X36sdnNjb2RlLXJlbW90ZQ%3D%3D?line=3'>4</a>\u001b[0m     depth_soil \u001b[39m=\u001b[39;49m \u001b[39m25\u001b[39;49m,\n\u001b[1;32m      <a href='vscode-notebook-cell://wsl%2Bubuntu/home/mahdi/QDWB/qdwb/deep_percolation/test_deep_percolation.ipynb#X36sdnNjb2RlLXJlbW90ZQ%3D%3D?line=4'>5</a>\u001b[0m     geology_permeability \u001b[39m=\u001b[39;49m \u001b[39m1.2\u001b[39;49m\n\u001b[1;32m      <a href='vscode-notebook-cell://wsl%2Bubuntu/home/mahdi/QDWB/qdwb/deep_percolation/test_deep_percolation.ipynb#X36sdnNjb2RlLXJlbW90ZQ%3D%3D?line=5'>6</a>\u001b[0m )\n",
      "File \u001b[0;32m~/QDWB/qdwb/deep_percolation/deep_percolation.py:162\u001b[0m, in \u001b[0;36mDeepPerculatoin.late_runoff\u001b[0;34m(feild_capacity, soil_water, depth_soil, geology_permeability)\u001b[0m\n\u001b[1;32m    160\u001b[0m check_feild_capacity(feild_capacity \u001b[39m=\u001b[39m feild_capacity)\n\u001b[1;32m    161\u001b[0m check_depth_soil(depth_soil \u001b[39m=\u001b[39m depth_soil)\n\u001b[0;32m--> 162\u001b[0m check_geology_permeability(geology_permeability \u001b[39m=\u001b[39;49m geology_permeability)\n\u001b[1;32m    164\u001b[0m inital_deep_perculation \u001b[39m=\u001b[39m DeepPerculatoin\u001b[39m.\u001b[39minital_deep_perculation(\n\u001b[1;32m    165\u001b[0m     feild_capacity \u001b[39m=\u001b[39m feild_capacity, \n\u001b[1;32m    166\u001b[0m     soil_water \u001b[39m=\u001b[39m soil_water,\n\u001b[1;32m    167\u001b[0m     depth_soil \u001b[39m=\u001b[39m depth_soil\n\u001b[1;32m    168\u001b[0m )\n\u001b[1;32m    170\u001b[0m later_runoff \u001b[39m=\u001b[39m inital_deep_perculation[\u001b[39m0\u001b[39m] \u001b[39m*\u001b[39m geology_permeability\n",
      "File \u001b[0;32m~/QDWB/qdwb/deep_percolation/check.py:56\u001b[0m, in \u001b[0;36mcheck_geology_permeability\u001b[0;34m(geology_permeability)\u001b[0m\n\u001b[1;32m     54\u001b[0m     geology_permeability \u001b[39m=\u001b[39m geology_permeability\n\u001b[1;32m     55\u001b[0m \u001b[39melse\u001b[39;00m:\n\u001b[0;32m---> 56\u001b[0m     \u001b[39mraise\u001b[39;00m \u001b[39mValueError\u001b[39;00m(\u001b[39m\"\u001b[39m\u001b[39mThe value entered must be between 0 and 1\u001b[39m\u001b[39m\"\u001b[39m)\n",
      "\u001b[0;31mValueError\u001b[0m: The value entered must be between 0 and 1"
     ]
    }
   ],
   "source": [
    "DeepPerculatoin.late_runoff(\n",
    "    feild_capacity = 30, \n",
    "    soil_water = 100,\n",
    "    depth_soil = 25,\n",
    "    geology_permeability = 1.2\n",
    ")"
   ]
  }
 ],
 "metadata": {
  "kernelspec": {
   "display_name": "Python 3.8.10 64-bit",
   "language": "python",
   "name": "python3"
  },
  "language_info": {
   "codemirror_mode": {
    "name": "ipython",
    "version": 3
   },
   "file_extension": ".py",
   "mimetype": "text/x-python",
   "name": "python",
   "nbconvert_exporter": "python",
   "pygments_lexer": "ipython3",
   "version": "3.8.10"
  },
  "orig_nbformat": 4,
  "vscode": {
   "interpreter": {
    "hash": "916dbcbb3f70747c44a77c7bcd40155683ae19c65e1c03b4aa3499c5328201f1"
   }
  }
 },
 "nbformat": 4,
 "nbformat_minor": 2
}
