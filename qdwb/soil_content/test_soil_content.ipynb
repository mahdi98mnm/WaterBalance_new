{
 "cells": [
  {
   "cell_type": "markdown",
   "metadata": {},
   "source": [
    "# check evaporation_layer\n",
    "#### Test : PWP < soil water content < FC"
   ]
  },
  {
   "cell_type": "code",
   "execution_count": 1,
   "metadata": {},
   "outputs": [
    {
     "data": {
      "text/plain": [
       "22.8"
      ]
     },
     "execution_count": 1,
     "metadata": {},
     "output_type": "execute_result"
    }
   ],
   "source": [
    "from soil_content import *\n",
    "SoilContent.evaporation_layer(\n",
    "    soil_water_content_of_evaporation_layer_at_previous_step = 10,\n",
    "    infiltration = 20,\n",
    "    evaporation = 2,\n",
    "    field_capacity_soil_water_content_of_evaporation_layer = 40,\n",
    "    permanent_wilting_point_soil_water_content_of_evaporation_layer = 20,\n",
    "    coverd = True,\n",
    "    infiltration_to_transpiration_layer = 5.2,\n",
    "    infiltration_to_transition_layer = 5)"
   ]
  },
  {
   "cell_type": "markdown",
   "metadata": {},
   "source": [
    "#### Test : soil water content > FC"
   ]
  },
  {
   "cell_type": "code",
   "execution_count": 2,
   "metadata": {},
   "outputs": [
    {
     "data": {
      "text/plain": [
       "40.0"
      ]
     },
     "execution_count": 2,
     "metadata": {},
     "output_type": "execute_result"
    }
   ],
   "source": [
    "SoilContent.evaporation_layer(\n",
    "    soil_water_content_of_evaporation_layer_at_previous_step = 10,\n",
    "    infiltration = 40,\n",
    "    evaporation = 2,\n",
    "    field_capacity_soil_water_content_of_evaporation_layer = 40,\n",
    "    permanent_wilting_point_soil_water_content_of_evaporation_layer = 20,\n",
    "    coverd = True,\n",
    "    infiltration_to_transpiration_layer = 5,\n",
    "    infiltration_to_transition_layer = 5)"
   ]
  },
  {
   "cell_type": "markdown",
   "metadata": {},
   "source": [
    "#### Test : PWP > soil water content"
   ]
  },
  {
   "cell_type": "code",
   "execution_count": 3,
   "metadata": {},
   "outputs": [
    {
     "data": {
      "text/plain": [
       "20.0"
      ]
     },
     "execution_count": 3,
     "metadata": {},
     "output_type": "execute_result"
    }
   ],
   "source": [
    "\n",
    "SoilContent.evaporation_layer(\n",
    "    soil_water_content_of_evaporation_layer_at_previous_step = 21,\n",
    "    infiltration = 4,\n",
    "    evaporation = 2,\n",
    "    field_capacity_soil_water_content_of_evaporation_layer = 40,\n",
    "    permanent_wilting_point_soil_water_content_of_evaporation_layer = 20,\n",
    "    coverd = True,\n",
    "    infiltration_to_transpiration_layer = 5,\n",
    "    infiltration_to_transition_layer = 5)"
   ]
  },
  {
   "cell_type": "markdown",
   "metadata": {},
   "source": [
    "# check transpiration_layer\n",
    "#### kamtar az PWP"
   ]
  },
  {
   "cell_type": "code",
   "execution_count": 4,
   "metadata": {},
   "outputs": [
    {
     "data": {
      "text/plain": [
       "100.0"
      ]
     },
     "execution_count": 4,
     "metadata": {},
     "output_type": "execute_result"
    }
   ],
   "source": [
    "SoilContent.transpiration_layer(\n",
    "    coverd = True,\n",
    "    field_capacity_soil_water_content_of_transpiration_layer = 40,\n",
    "    permanent_wilting_point_soil_water_content_of_transpiration_layer = 10,\n",
    "    soil_water_content_of_transpiration_layer_at_previous_step = 100,\n",
    "    stress_coefficient = 0.8,\n",
    "    infiltration_from_evaporation_to_transpiration_layer = 5,\n",
    "    infiltration_from_transpiration_to_transition_layer = 2,\n",
    "    transpiration = 5,\n",
    "    upward_flux_from_transition_to_transpiration_layer = 5,\n",
    "    upward_flux_from_transpiration_to_evaporation_layer = 5,\n",
    "    root_depth = 100,\n",
    "    MAD = 0.5\n",
    "    )"
   ]
  },
  {
   "cell_type": "markdown",
   "metadata": {},
   "source": [
    "#### bishtar az FC"
   ]
  },
  {
   "cell_type": "code",
   "execution_count": 5,
   "metadata": {},
   "outputs": [
    {
     "data": {
      "text/plain": [
       "400.0"
      ]
     },
     "execution_count": 5,
     "metadata": {},
     "output_type": "execute_result"
    }
   ],
   "source": [
    "SoilContent.transpiration_layer(\n",
    "    coverd = True,\n",
    "    field_capacity_soil_water_content_of_transpiration_layer = 40,\n",
    "    permanent_wilting_point_soil_water_content_of_transpiration_layer = 10,\n",
    "    soil_water_content_of_transpiration_layer_at_previous_step = 400,\n",
    "    stress_coefficient = 0.8,\n",
    "    infiltration_from_evaporation_to_transpiration_layer = 20,\n",
    "    infiltration_from_transpiration_to_transition_layer = 2,\n",
    "    transpiration = 5,\n",
    "    upward_flux_from_transition_to_transpiration_layer = 5,\n",
    "    upward_flux_from_transpiration_to_evaporation_layer = 5,\n",
    "    root_depth = 100,\n",
    "    MAD = 0.5\n",
    "    )"
   ]
  },
  {
   "cell_type": "markdown",
   "metadata": {},
   "source": [
    "#### bishtar az MAD"
   ]
  },
  {
   "cell_type": "code",
   "execution_count": 6,
   "metadata": {},
   "outputs": [
    {
     "data": {
      "text/plain": [
       "193"
      ]
     },
     "execution_count": 6,
     "metadata": {},
     "output_type": "execute_result"
    }
   ],
   "source": [
    "SoilContent.transpiration_layer(\n",
    "    coverd = True,\n",
    "    field_capacity_soil_water_content_of_transpiration_layer = 40,\n",
    "    permanent_wilting_point_soil_water_content_of_transpiration_layer = 10,\n",
    "    soil_water_content_of_transpiration_layer_at_previous_step = 180,\n",
    "    stress_coefficient = 0.8,\n",
    "    infiltration_from_evaporation_to_transpiration_layer = 20,\n",
    "    infiltration_from_transpiration_to_transition_layer = 2,\n",
    "    transpiration = 5,\n",
    "    upward_flux_from_transition_to_transpiration_layer = 5,\n",
    "    upward_flux_from_transpiration_to_evaporation_layer = 5,\n",
    "    root_depth = 100,\n",
    "    MAD = 0.5\n",
    "    )"
   ]
  },
  {
   "cell_type": "markdown",
   "metadata": {},
   "source": [
    "#### kamtar az MAD"
   ]
  },
  {
   "cell_type": "code",
   "execution_count": 7,
   "metadata": {},
   "outputs": [
    {
     "data": {
      "text/plain": [
       "400.0"
      ]
     },
     "execution_count": 7,
     "metadata": {},
     "output_type": "execute_result"
    }
   ],
   "source": [
    "SoilContent.transpiration_layer(\n",
    "    coverd = True,\n",
    "    field_capacity_soil_water_content_of_transpiration_layer = 40,\n",
    "    permanent_wilting_point_soil_water_content_of_transpiration_layer = 10,\n",
    "    soil_water_content_of_transpiration_layer_at_previous_step = 130,\n",
    "    stress_coefficient = 0.8,\n",
    "    infiltration_from_evaporation_to_transpiration_layer = 20,\n",
    "    infiltration_from_transpiration_to_transition_layer = 2,\n",
    "    transpiration = 5,\n",
    "    upward_flux_from_transition_to_transpiration_layer = 5,\n",
    "    upward_flux_from_transpiration_to_evaporation_layer = 5,\n",
    "    root_depth = 100,\n",
    "    MAD = 0.5\n",
    "    )"
   ]
  },
  {
   "cell_type": "markdown",
   "metadata": {},
   "source": [
    "# check transition_layer\n",
    "#### kamtar az PWP"
   ]
  },
  {
   "cell_type": "code",
   "execution_count": 2,
   "metadata": {},
   "outputs": [
    {
     "data": {
      "text/plain": [
       "200.0"
      ]
     },
     "execution_count": 2,
     "metadata": {},
     "output_type": "execute_result"
    }
   ],
   "source": [
    "SoilContent.transition_layer(\n",
    "    coverd = True,\n",
    "    field_capacity_soil_water_content_of_transition_layer = 40,\n",
    "    permanent_wilting_point_soil_water_content_of_transition_layer = 20,\n",
    "    soil_water_content_of_transition_layer_at_previous_step = 200,\n",
    "    deep_percolation = 10,\n",
    "    infiltration_from_transpiration_to_transition_layer = 5,\n",
    "    upward_flux_from_transition_to_transpiration_layer = 5\n",
    ")"
   ]
  },
  {
   "cell_type": "markdown",
   "metadata": {},
   "source": [
    "#### bishtar az FC"
   ]
  },
  {
   "cell_type": "code",
   "execution_count": 3,
   "metadata": {},
   "outputs": [
    {
     "data": {
      "text/plain": [
       "400.0"
      ]
     },
     "execution_count": 3,
     "metadata": {},
     "output_type": "execute_result"
    }
   ],
   "source": [
    "SoilContent.transition_layer(\n",
    "    coverd = True,\n",
    "    field_capacity_soil_water_content_of_transition_layer = 40,\n",
    "    permanent_wilting_point_soil_water_content_of_transition_layer = 20,\n",
    "    soil_water_content_of_transition_layer_at_previous_step = 400,\n",
    "    deep_percolation = 5,\n",
    "    infiltration_from_transpiration_to_transition_layer = 10,\n",
    "    upward_flux_from_transition_to_transpiration_layer = 5\n",
    ")"
   ]
  },
  {
   "cell_type": "markdown",
   "metadata": {},
   "source": [
    "#### beyne PWP va FC"
   ]
  },
  {
   "cell_type": "code",
   "execution_count": 4,
   "metadata": {},
   "outputs": [
    {
     "data": {
      "text/plain": [
       "305"
      ]
     },
     "execution_count": 4,
     "metadata": {},
     "output_type": "execute_result"
    }
   ],
   "source": [
    "SoilContent.transition_layer(\n",
    "    coverd = True,\n",
    "    field_capacity_soil_water_content_of_transition_layer = 40,\n",
    "    permanent_wilting_point_soil_water_content_of_transition_layer = 20,\n",
    "    soil_water_content_of_transition_layer_at_previous_step = 300,\n",
    "    deep_percolation = 5,\n",
    "    infiltration_from_transpiration_to_transition_layer = 10,\n",
    "    upward_flux_from_transition_to_transpiration_layer = 5\n",
    ")"
   ]
  },
  {
   "cell_type": "markdown",
   "metadata": {},
   "source": [
    "# check upward_flux"
   ]
  },
  {
   "cell_type": "code",
   "execution_count": 2,
   "metadata": {},
   "outputs": [
    {
     "data": {
      "text/plain": [
       "(0.241, 0.15900000000000003, None)"
      ]
     },
     "execution_count": 2,
     "metadata": {},
     "output_type": "execute_result"
    }
   ],
   "source": [
    "SoilContent.upward_flux(\n",
    "    coverd = True,\n",
    "    field_capacity_soil_water_content_of_evaporation_layer = 75,\n",
    "    field_capacity_soil_water_content_of_transition_layer = 75,\n",
    "    permanent_wilting_point_soil_water_content_of_evaporation_layer = 25,\n",
    "    permanent_wilting_point_soil_water_content_of_transition_layer = 25,\n",
    "    soil_water_content_of_evaporation_layer_at_previous_step = 50,\n",
    "    soil_water_content_of_transition_layer_at_previous_step = 700,\n",
    "    hydraulic_conductivity_of_transition_layer = 1,\n",
    "    field_capacity_soil_water_content_of_transpiration_layer = 75,\n",
    "    permanent_wilting_point_soil_water_content_of_transpiration_layer = 25,\n",
    "    soil_water_content_of_transpiration_layer_at_previous_step = 620.5,\n",
    "    hydraulic_conductivity_of_transpiration_layer = 1,\n",
    "    root_depth = 100\n",
    "    )"
   ]
  }
 ],
 "metadata": {
  "kernelspec": {
   "display_name": "Python 3.8.10 64-bit",
   "language": "python",
   "name": "python3"
  },
  "language_info": {
   "codemirror_mode": {
    "name": "ipython",
    "version": 3
   },
   "file_extension": ".py",
   "mimetype": "text/x-python",
   "name": "python",
   "nbconvert_exporter": "python",
   "pygments_lexer": "ipython3",
   "version": "3.8.10"
  },
  "orig_nbformat": 4,
  "vscode": {
   "interpreter": {
    "hash": "916dbcbb3f70747c44a77c7bcd40155683ae19c65e1c03b4aa3499c5328201f1"
   }
  }
 },
 "nbformat": 4,
 "nbformat_minor": 2
}
