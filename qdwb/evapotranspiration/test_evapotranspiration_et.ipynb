{
 "cells": [
  {
   "cell_type": "markdown",
   "metadata": {},
   "source": [
    "Calculate Reference evapotranspiration hargreaves samani"
   ]
  },
  {
   "cell_type": "code",
   "execution_count": 1,
   "metadata": {},
   "outputs": [
    {
     "data": {
      "text/plain": [
       "14.952916866092727"
      ]
     },
     "execution_count": 1,
     "metadata": {},
     "output_type": "execute_result"
    }
   ],
   "source": [
    "from et import *\n",
    "ReferenceEvapotranspiration.hargreaves_samani(\n",
    "    tmin=28, \n",
    "    tmean=35, \n",
    "    tmax=38, \n",
    "    ra=38.93715\n",
    ")"
   ]
  },
  {
   "cell_type": "markdown",
   "metadata": {},
   "source": [
    "Calculate Reference evapotranspiration fao56 penman monteith - page 72 ,EX18 "
   ]
  },
  {
   "cell_type": "code",
   "execution_count": 3,
   "metadata": {},
   "outputs": [
    {
     "data": {
      "text/plain": [
       "3.884336278719094"
      ]
     },
     "execution_count": 3,
     "metadata": {},
     "output_type": "execute_result"
    }
   ],
   "source": [
    "ReferenceEvapotranspiration.fao56_penman_monteith(\n",
    "    delta=0.122,\n",
    "    rn=13.28,\n",
    "    G=0.0,\n",
    "    gamma=0.066,\n",
    "    tmean=16.9,\n",
    "    u2=2.078,\n",
    "    es=1.997,\n",
    "    ea=1.409\n",
    ")"
   ]
  },
  {
   "cell_type": "markdown",
   "metadata": {},
   "source": [
    "Calculate Reference evapotranspiration fao56 penman monteith - page 70 ,EX17 "
   ]
  },
  {
   "cell_type": "code",
   "execution_count": 4,
   "metadata": {},
   "outputs": [
    {
     "data": {
      "text/plain": [
       "5.713380333629949"
      ]
     },
     "execution_count": 4,
     "metadata": {},
     "output_type": "execute_result"
    }
   ],
   "source": [
    "ReferenceEvapotranspiration.fao56_penman_monteith(\n",
    "    delta=0.246,\n",
    "    rn=14.33,\n",
    "    G=0.14,\n",
    "    gamma=0.0674,\n",
    "    tmean=30.2,\n",
    "    u2=2.0,\n",
    "    es=4.42,\n",
    "    ea=2.85\n",
    ")"
   ]
  },
  {
   "cell_type": "markdown",
   "metadata": {},
   "source": [
    "#### check correction_crop_coefficient_for_step_mid_and_end"
   ]
  },
  {
   "cell_type": "code",
   "execution_count": 2,
   "metadata": {},
   "outputs": [
    {
     "name": "stdout",
     "output_type": "stream",
     "text": [
      "(1.187152713083679, 0.38715271308367893)\n"
     ]
    }
   ],
   "source": [
    "cor = PotentialEvapotranspiration.correction_crop_coefficient_for_step_mid_and_end(\n",
    "    crop_coefficient_mid = 1.15,\n",
    "    crop_coefficient_end = 0.35,\n",
    "    RH_min = 30,\n",
    "    maximum_crop_height = 0.4,\n",
    "    wind_speed_at_2m = 2.2\n",
    ")\n",
    "\n",
    "crop_coefficient_mid =cor[0]\n",
    "crop_coefficient_end =cor[1]\n",
    "print(cor)"
   ]
  },
  {
   "cell_type": "markdown",
   "metadata": {},
   "source": [
    "#### check calculate_crop_coefficient_for_linear_changes_steps"
   ]
  },
  {
   "cell_type": "code",
   "execution_count": 3,
   "metadata": {},
   "outputs": [
    {
     "data": {
      "text/plain": [
       "0.15"
      ]
     },
     "execution_count": 3,
     "metadata": {},
     "output_type": "execute_result"
    }
   ],
   "source": [
    "PotentialEvapotranspiration.calculate_single_crop_coefficient_for_linear_changes_steps(\n",
    "    crop_coefficient_ini = 0.15,\n",
    "    crop_coefficient_mid = crop_coefficient_mid,\n",
    "    crop_coefficient_end = crop_coefficient_end,\n",
    "    length_ini_crop = 25,\n",
    "    length_dev_crop = 25,\n",
    "    length_mid_crop = 30,\n",
    "    length_late_crop = 20,\n",
    "    plant_date = '2019-06-01',\n",
    "    modeling_date = '2019-06-21'\n",
    ")"
   ]
  }
 ],
 "metadata": {
  "kernelspec": {
   "display_name": "Python 3.8.10 64-bit",
   "language": "python",
   "name": "python3"
  },
  "language_info": {
   "codemirror_mode": {
    "name": "ipython",
    "version": 3
   },
   "file_extension": ".py",
   "mimetype": "text/x-python",
   "name": "python",
   "nbconvert_exporter": "python",
   "pygments_lexer": "ipython3",
   "version": "3.8.10"
  },
  "orig_nbformat": 4,
  "vscode": {
   "interpreter": {
    "hash": "916dbcbb3f70747c44a77c7bcd40155683ae19c65e1c03b4aa3499c5328201f1"
   }
  }
 },
 "nbformat": 4,
 "nbformat_minor": 2
}
