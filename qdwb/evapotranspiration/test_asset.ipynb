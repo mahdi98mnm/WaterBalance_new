{
 "cells": [
  {
   "cell_type": "markdown",
   "metadata": {},
   "source": [
    "Check_calculate Actual_Vapour_Pressure ----- page39 EX5 FAO56"
   ]
  },
  {
   "cell_type": "code",
   "execution_count": 3,
   "metadata": {},
   "outputs": [
    {
     "data": {
      "text/plain": [
       "1.7015355568176478"
      ]
     },
     "execution_count": 3,
     "metadata": {},
     "output_type": "execute_result"
    }
   ],
   "source": [
    "from asset import *\n",
    "ActualVapourPressure.RH_and_T_max_min(\n",
    "    tmax = 25,\n",
    "    tmin = 18,\n",
    "    RH_max = 82,\n",
    "    RH_min = 54\n",
    ")"
   ]
  },
  {
   "cell_type": "code",
   "execution_count": 4,
   "metadata": {},
   "outputs": [
    {
     "data": {
      "text/plain": [
       "1.7788007528568932"
      ]
     },
     "execution_count": 4,
     "metadata": {},
     "output_type": "execute_result"
    }
   ],
   "source": [
    "ActualVapourPressure.RH_mean_T_max_min(\n",
    "    tmax=25,\n",
    "    tmin=18,\n",
    "    RH_max=82,\n",
    "    RH_min=54\n",
    ")"
   ]
  },
  {
   "cell_type": "code",
   "execution_count": 5,
   "metadata": {},
   "outputs": [
    {
     "data": {
      "text/plain": [
       "1.7788007528568932"
      ]
     },
     "execution_count": 5,
     "metadata": {},
     "output_type": "execute_result"
    }
   ],
   "source": [
    "ActualVapourPressure.RH_mean_T_max_min(\n",
    "    tmax=25,\n",
    "    tmin=18,\n",
    "    RH_mean=68\n",
    ")"
   ]
  },
  {
   "cell_type": "code",
   "execution_count": 6,
   "metadata": {},
   "outputs": [
    {
     "data": {
      "text/plain": [
       "1.7788007528568932"
      ]
     },
     "execution_count": 6,
     "metadata": {},
     "output_type": "execute_result"
    }
   ],
   "source": [
    "ActualVapourPressure.RH_mean_T_max_min(\n",
    "    tmax=25,\n",
    "    tmin=18,\n",
    "    RH_max=82,\n",
    "    RH_min=40,\n",
    "    RH_mean=68\n",
    ")"
   ]
  },
  {
   "cell_type": "code",
   "execution_count": 7,
   "metadata": {},
   "outputs": [
    {
     "data": {
      "text/plain": [
       "1.9119359138798777"
      ]
     },
     "execution_count": 7,
     "metadata": {},
     "output_type": "execute_result"
    }
   ],
   "source": [
    "ActualVapourPressure.T_wet_T_dry(\n",
    "    twet = 19.5,\n",
    "    tdry = 25.6,\n",
    "    a_psy = 0.000662,\n",
    "    altitude = 1200 \n",
    ")"
   ]
  },
  {
   "cell_type": "markdown",
   "metadata": {},
   "source": [
    "Check_Clear-sky solar or clear-sky shortwave radiation ----- page62 EX16 FAO56"
   ]
  },
  {
   "cell_type": "code",
   "execution_count": 8,
   "metadata": {},
   "outputs": [
    {
     "data": {
      "text/plain": [
       "28.576524000000003"
      ]
     },
     "execution_count": 8,
     "metadata": {},
     "output_type": "execute_result"
    }
   ],
   "source": [
    "clear_sky_solar_or_clear_sky_shortwave_radiation(\n",
    "    extraterrestrial_radiation = 38.1,\n",
    "    altitude = 2\n",
    ")"
   ]
  },
  {
   "cell_type": "markdown",
   "metadata": {},
   "source": [
    "Check_Calculate Extraterrestrial Radiation ----- page47 EX8 FAO56"
   ]
  },
  {
   "cell_type": "code",
   "execution_count": 2,
   "metadata": {},
   "outputs": [
    {
     "data": {
      "text/plain": [
       "32.17385060788054"
      ]
     },
     "execution_count": 2,
     "metadata": {},
     "output_type": "execute_result"
    }
   ],
   "source": [
    "extraterrestrial_radiation(\n",
    "    inverse_relative_distance_earth_sun = 0.985,\n",
    "    sunset_hour_angle = 1.527,\n",
    "    latitude = -0.35,\n",
    "    solar_declination = 0.120\n",
    ")"
   ]
  },
  {
   "cell_type": "markdown",
   "metadata": {},
   "source": [
    "Check_Calculate Inverse Relative Distance Earth Sun ----- page47 EX8 FAO56"
   ]
  },
  {
   "cell_type": "code",
   "execution_count": 3,
   "metadata": {},
   "outputs": [
    {
     "data": {
      "text/plain": [
       "0.9848288195980806"
      ]
     },
     "execution_count": 3,
     "metadata": {},
     "output_type": "execute_result"
    }
   ],
   "source": [
    "inverse_relative_distance_earth_sun(\n",
    "    julian_date = 246\n",
    ")"
   ]
  },
  {
   "cell_type": "markdown",
   "metadata": {},
   "source": [
    "Check_Calculate maximum possible sunshine duration in a day ----- page49 EX9 FAO56"
   ]
  },
  {
   "cell_type": "code",
   "execution_count": 4,
   "metadata": {},
   "outputs": [
    {
     "data": {
      "text/plain": [
       "11.665420708863559"
      ]
     },
     "execution_count": 4,
     "metadata": {},
     "output_type": "execute_result"
    }
   ],
   "source": [
    "maximum_possible_sunshine_duration_in_a_day(\n",
    "    sunset_hour_angle = 1.527\n",
    ")"
   ]
  },
  {
   "cell_type": "markdown",
   "metadata": {},
   "source": [
    "Check_Net longwave radiation ----- page52 EX11 FAO56"
   ]
  },
  {
   "cell_type": "code",
   "execution_count": 5,
   "metadata": {},
   "outputs": [
    {
     "data": {
      "text/plain": [
       "3.5359496888562196"
      ]
     },
     "execution_count": 5,
     "metadata": {},
     "output_type": "execute_result"
    }
   ],
   "source": [
    "net_longwave_radiation(\n",
    "    tmax_kelvin = 298.3,\n",
    "    tmin_kelvin = 292.3,\n",
    "    actual_vapour_pressure = 2.1,\n",
    "    solar_or_shortwave_radiation = 14.5,\n",
    "    clear_sky_solar_or_clear_sky_shortwave_radiation = 18.8\n",
    ")"
   ]
  },
  {
   "cell_type": "markdown",
   "metadata": {},
   "source": [
    "Check_Calculate Net radiation at the crop surface ----- page53 EX12 FAO56"
   ]
  },
  {
   "cell_type": "code",
   "execution_count": 6,
   "metadata": {},
   "outputs": [
    {
     "data": {
      "text/plain": [
       "7.6"
      ]
     },
     "execution_count": 6,
     "metadata": {},
     "output_type": "execute_result"
    }
   ],
   "source": [
    "net_radiation_at_the_crop_surface(\n",
    "    net_solar_or_shortwave_radiation = 11.1,\n",
    "    net_longwave_radiation = 3.5\n",
    ")"
   ]
  },
  {
   "cell_type": "markdown",
   "metadata": {},
   "source": [
    "Check_Net solar or shortwave radiation ----- page62 EX16 FAO56"
   ]
  },
  {
   "cell_type": "code",
   "execution_count": 7,
   "metadata": {},
   "outputs": [
    {
     "data": {
      "text/plain": [
       "16.863"
      ]
     },
     "execution_count": 7,
     "metadata": {},
     "output_type": "execute_result"
    }
   ],
   "source": [
    "net_solar_or_shortwave_radiation(\n",
    "    solar_or_shortwave_radiation = 21.9\n",
    ")"
   ]
  },
  {
   "cell_type": "markdown",
   "metadata": {},
   "source": [
    "Check_Calculate Number of days in month"
   ]
  },
  {
   "cell_type": "code",
   "execution_count": 8,
   "metadata": {},
   "outputs": [
    {
     "data": {
      "text/plain": [
       "31"
      ]
     },
     "execution_count": 8,
     "metadata": {},
     "output_type": "execute_result"
    }
   ],
   "source": [
    "number_of_days_in_month(\n",
    "    standard_date_in_gregorian = '2019-05-15'\n",
    ")"
   ]
  },
  {
   "cell_type": "markdown",
   "metadata": {},
   "source": [
    "Check_Calculate_Pressure_With_Altitudes----- page32 EX2 FAO56"
   ]
  },
  {
   "cell_type": "code",
   "execution_count": 9,
   "metadata": {},
   "outputs": [
    {
     "data": {
      "text/plain": [
       "81.75579640764421"
      ]
     },
     "execution_count": 9,
     "metadata": {},
     "output_type": "execute_result"
    }
   ],
   "source": [
    "pressure_with_altitudes(\n",
    "    altitude = 1800\n",
    ")"
   ]
  },
  {
   "cell_type": "markdown",
   "metadata": {},
   "source": [
    "Check_Calculate_Calculate_Psychrometric_constant_With_Altitudes----- page214 Table2.2 FAO56"
   ]
  },
  {
   "cell_type": "code",
   "execution_count": 11,
   "metadata": {},
   "outputs": [
    {
     "data": {
      "text/plain": [
       "0.06657980000000001"
      ]
     },
     "execution_count": 11,
     "metadata": {},
     "output_type": "execute_result"
    }
   ],
   "source": [
    "psychrometric_constant_with_altitudes(\n",
    "    pressure = 100.12\n",
    ")"
   ]
  },
  {
   "cell_type": "markdown",
   "metadata": {},
   "source": [
    "Check_saturation_vapour_pressure_with_temperature ----- page36 EX3 FAO56"
   ]
  },
  {
   "cell_type": "code",
   "execution_count": 12,
   "metadata": {},
   "outputs": [
    {
     "data": {
      "text/plain": [
       "3.07464905088159"
      ]
     },
     "execution_count": 12,
     "metadata": {},
     "output_type": "execute_result"
    }
   ],
   "source": [
    "saturation_vapour_pressure_with_temperature(\n",
    "    temperature = 24.5\n",
    ")"
   ]
  },
  {
   "cell_type": "markdown",
   "metadata": {},
   "source": [
    "Check_calculate Total Saturation Vapour Pressure With max and min Pressuree ----- page36 EX3 FAO56"
   ]
  },
  {
   "cell_type": "code",
   "execution_count": 14,
   "metadata": {},
   "outputs": [
    {
     "data": {
      "text/plain": [
       "2.39"
      ]
     },
     "execution_count": 14,
     "metadata": {},
     "output_type": "execute_result"
    }
   ],
   "source": [
    "total_saturation_vapour_pressure(\n",
    "    Saturated_vapor_pressure_at_maximum_temperature = 3.075,\n",
    "    Saturated_vapor_pressure_at_minimum_temperature = 1.705\n",
    ")"
   ]
  },
  {
   "cell_type": "markdown",
   "metadata": {},
   "source": [
    "Check_Calculate_Slope_Vapour_Pressure_Curve_With_Maen_Temperature----- page216 Table2.4 FAO56"
   ]
  },
  {
   "cell_type": "code",
   "execution_count": 15,
   "metadata": {},
   "outputs": [
    {
     "data": {
      "text/plain": [
       "0.04739111710514966"
      ]
     },
     "execution_count": 15,
     "metadata": {},
     "output_type": "execute_result"
    }
   ],
   "source": [
    "slope_vapour_pressure_curve_with_maen_temperature(\n",
    "    tmean = 1\n",
    ")"
   ]
  },
  {
   "cell_type": "markdown",
   "metadata": {},
   "source": [
    "Check_Calculate Soil heat flux density ----- page55 EX13 FAO56"
   ]
  },
  {
   "cell_type": "code",
   "execution_count": 2,
   "metadata": {},
   "outputs": [
    {
     "data": {
      "text/plain": [
       "0.3290000000000001"
      ]
     },
     "execution_count": 2,
     "metadata": {},
     "output_type": "execute_result"
    }
   ],
   "source": [
    "SoilHeatFluxDensity.For_monthly_periods(\n",
    "    mean_air_temperature_of_previous_month=14.1,\n",
    "    mean_air_temperature_of_next_month=18.8\n",
    ")"
   ]
  },
  {
   "cell_type": "code",
   "execution_count": 3,
   "metadata": {},
   "outputs": [
    {
     "data": {
      "text/plain": [
       "0.28000000000000025"
      ]
     },
     "execution_count": 3,
     "metadata": {},
     "output_type": "execute_result"
    }
   ],
   "source": [
    "SoilHeatFluxDensity.For_monthly_periods(\n",
    "    mean_air_temperature_of_previous_month=14.1,\n",
    "    mean_air_temperature_of_current_month=16.1\n",
    ")"
   ]
  },
  {
   "cell_type": "markdown",
   "metadata": {},
   "source": [
    "Check_Calculate Solar Declination ----- page47 EX8 FAO56"
   ]
  },
  {
   "cell_type": "code",
   "execution_count": 4,
   "metadata": {},
   "outputs": [
    {
     "data": {
      "text/plain": [
       "0.11965509269706703"
      ]
     },
     "execution_count": 4,
     "metadata": {},
     "output_type": "execute_result"
    }
   ],
   "source": [
    "solar_declination(\n",
    "    julian_date = 246\n",
    ")"
   ]
  },
  {
   "cell_type": "markdown",
   "metadata": {},
   "source": [
    "Check_Solar or shortwave radiation ----- page50 EX10 FAO56"
   ]
  },
  {
   "cell_type": "code",
   "execution_count": 2,
   "metadata": {},
   "outputs": [
    {
     "data": {
      "text/plain": [
       "14.44605652559929"
      ]
     },
     "execution_count": 2,
     "metadata": {},
     "output_type": "execute_result"
    }
   ],
   "source": [
    "SolarOrShortwaveRadiation.Angstrom(\n",
    "    extraterrestrial_radiation = 25.1,\n",
    "    mode_data = 'monthly',\n",
    "    maximum_possible_sunshine_duration_in_a_day = 10.9,\n",
    "    standard_date_in_gregorian = '2019-05-15',\n",
    "    Actual_duration_of_sunshine_in_a_day = 220 \n",
    ")"
   ]
  },
  {
   "cell_type": "code",
   "execution_count": 4,
   "metadata": {},
   "outputs": [
    {
     "data": {
      "text/plain": [
       "14.449770642201834"
      ]
     },
     "execution_count": 4,
     "metadata": {},
     "output_type": "execute_result"
    }
   ],
   "source": [
    "SolarOrShortwaveRadiation.Angstrom(\n",
    "    extraterrestrial_radiation = 25.1,\n",
    "    mode_data = 'monthly',\n",
    "    maximum_possible_sunshine_duration_in_a_day = 10.9,\n",
    "    standard_date_in_gregorian = '2019-05-15',\n",
    "    Monthly_average_sunshine_duration = 7.1\n",
    ")"
   ]
  },
  {
   "cell_type": "code",
   "execution_count": 5,
   "metadata": {},
   "outputs": [
    {
     "data": {
      "text/plain": [
       "14.449770642201834"
      ]
     },
     "execution_count": 5,
     "metadata": {},
     "output_type": "execute_result"
    }
   ],
   "source": [
    "SolarOrShortwaveRadiation.Angstrom(\n",
    "    extraterrestrial_radiation = 25.1,\n",
    "    mode_data = 'monthly',\n",
    "    maximum_possible_sunshine_duration_in_a_day = 10.9,\n",
    "    standard_date_in_gregorian = '2019-05-15',\n",
    "    Monthly_average_sunshine_duration = 7.1,\n",
    "    Actual_duration_of_sunshine_in_a_day = 220\n",
    ")"
   ]
  },
  {
   "cell_type": "markdown",
   "metadata": {},
   "source": [
    "Check_Solar or shortwave radiation ----- page61 EX15 FAO56"
   ]
  },
  {
   "cell_type": "code",
   "execution_count": 2,
   "metadata": {},
   "outputs": [
    {
     "data": {
      "text/plain": [
       "22.314492797283116"
      ]
     },
     "execution_count": 2,
     "metadata": {},
     "output_type": "execute_result"
    }
   ],
   "source": [
    "SolarOrShortwaveRadiation.Hargreaves(\n",
    "    extraterrestrial_radiation = 40.6,\n",
    "    tmax = 26.6,\n",
    "    tmin = 14.8,\n",
    "    Adjustment_coefficient_or_K_RS = 0.16\n",
    ")"
   ]
  },
  {
   "cell_type": "markdown",
   "metadata": {},
   "source": [
    "Check_standard_date_to_Julian_day----- Mentioned on the site\n",
    "Ref:https://rafatieppo.github.io/post/2018_12_01_juliandate/"
   ]
  },
  {
   "cell_type": "code",
   "execution_count": 1,
   "metadata": {},
   "outputs": [
    {
     "data": {
      "text/plain": [
       "305"
      ]
     },
     "execution_count": 1,
     "metadata": {},
     "output_type": "execute_result"
    }
   ],
   "source": [
    "from convert import *\n",
    "standard_date_to_Julian_day(standard_date_in_gregorian = '2018-11-01')"
   ]
  },
  {
   "cell_type": "markdown",
   "metadata": {},
   "source": [
    "Check_Calculate Sunset Hour Angle ----- page47 EX8 FAO56"
   ]
  },
  {
   "cell_type": "code",
   "execution_count": 5,
   "metadata": {},
   "outputs": [
    {
     "data": {
      "text/plain": [
       "1.5267672086654556"
      ]
     },
     "execution_count": 5,
     "metadata": {},
     "output_type": "execute_result"
    }
   ],
   "source": [
    "sunset_hour_angle(\n",
    "    latitude = -0.35,\n",
    "    solar_declination = 0.120\n",
    ")"
   ]
  },
  {
   "cell_type": "markdown",
   "metadata": {},
   "source": [
    "Check_Calculate Wind speed at 2m above ground surface ----- page56 EX14 FAO56"
   ]
  },
  {
   "cell_type": "code",
   "execution_count": 6,
   "metadata": {},
   "outputs": [
    {
     "data": {
      "text/plain": [
       "2.393443440537421"
      ]
     },
     "execution_count": 6,
     "metadata": {},
     "output_type": "execute_result"
    }
   ],
   "source": [
    "wind_speed_at_2m_above_ground_surface(\n",
    "    altitude_at_which_wind_speed_is_measured = 10,\n",
    "    measured_wind_speed = 3.2\n",
    ")"
   ]
  }
 ],
 "metadata": {
  "kernelspec": {
   "display_name": "Python 3.8.10 64-bit",
   "language": "python",
   "name": "python3"
  },
  "language_info": {
   "codemirror_mode": {
    "name": "ipython",
    "version": 3
   },
   "file_extension": ".py",
   "mimetype": "text/x-python",
   "name": "python",
   "nbconvert_exporter": "python",
   "pygments_lexer": "ipython3",
   "version": "3.10.6"
  },
  "orig_nbformat": 4,
  "vscode": {
   "interpreter": {
    "hash": "916dbcbb3f70747c44a77c7bcd40155683ae19c65e1c03b4aa3499c5328201f1"
   }
  }
 },
 "nbformat": 4,
 "nbformat_minor": 2
}
