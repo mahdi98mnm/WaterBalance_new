{
 "cells": [
  {
   "cell_type": "markdown",
   "metadata": {},
   "source": [
    "check calculate interception bucket"
   ]
  },
  {
   "cell_type": "code",
   "execution_count": 1,
   "metadata": {},
   "outputs": [
    {
     "data": {
      "text/plain": [
       "30.33"
      ]
     },
     "execution_count": 1,
     "metadata": {},
     "output_type": "execute_result"
    }
   ],
   "source": [
    "from interception import *\n",
    "interception.bucket(\n",
    "    type_of_basin_canopy = 'Forest&Mixed',\n",
    "    precipitation = 505.5,\n",
    "    is_growing_season = True\n",
    ")"
   ]
  },
  {
   "cell_type": "code",
   "execution_count": 2,
   "metadata": {},
   "outputs": [
    {
     "data": {
      "text/plain": [
       "15.165"
      ]
     },
     "execution_count": 2,
     "metadata": {},
     "output_type": "execute_result"
    }
   ],
   "source": [
    "interception.bucket(\n",
    "    type_of_basin_canopy = 'Forest&Mixed',\n",
    "    precipitation = 505.5,\n",
    "    is_growing_season = False\n",
    ")"
   ]
  },
  {
   "cell_type": "code",
   "execution_count": 3,
   "metadata": {},
   "outputs": [
    {
     "data": {
      "text/plain": [
       "50.550000000000004"
      ]
     },
     "execution_count": 3,
     "metadata": {},
     "output_type": "execute_result"
    }
   ],
   "source": [
    "interception.bucket(\n",
    "    type_of_basin_canopy = 'Evergreen_Forest',\n",
    "    precipitation = 505.5,\n",
    "    is_growing_season = False\n",
    ")"
   ]
  },
  {
   "cell_type": "code",
   "execution_count": 4,
   "metadata": {},
   "outputs": [
    {
     "data": {
      "text/plain": [
       "0"
      ]
     },
     "execution_count": 4,
     "metadata": {},
     "output_type": "execute_result"
    }
   ],
   "source": [
    "interception.bucket(\n",
    "    type_of_basin_canopy = 'Other',\n",
    "    precipitation = 505.5,\n",
    "    is_growing_season = False\n",
    ")"
   ]
  },
  {
   "cell_type": "markdown",
   "metadata": {},
   "source": [
    "check claculate saturated precipitation"
   ]
  },
  {
   "cell_type": "code",
   "execution_count": 5,
   "metadata": {},
   "outputs": [
    {
     "data": {
      "text/plain": [
       "0.5091082244014905"
      ]
     },
     "execution_count": 5,
     "metadata": {},
     "output_type": "execute_result"
    }
   ],
   "source": [
    "saturated_precipitation (\n",
    "    canopy_storage_capacity = 0.252,\n",
    "    canopy_cover = 0.5,\n",
    "    evaporation_to_rainfall_ratio = 0.02\n",
    ")"
   ]
  },
  {
   "cell_type": "markdown",
   "metadata": {},
   "source": [
    "check calculate interception gash"
   ]
  },
  {
   "cell_type": "code",
   "execution_count": 6,
   "metadata": {},
   "outputs": [
    {
     "data": {
      "text/plain": [
       "0.2"
      ]
     },
     "execution_count": 6,
     "metadata": {},
     "output_type": "execute_result"
    }
   ],
   "source": [
    "interception.gash(\n",
    "      total_precipitation_of_day = 0.4,\n",
    "      canopy_storage_capacity = 0.252,\n",
    "      canopy_cover = 0.5,\n",
    "      evaporation_to_rainfall_ratio = 0.02,\n",
    "      trunk_storage_capacity = 0.157,\n",
    "      stem_flow = 1.12\n",
    ")"
   ]
  },
  {
   "cell_type": "code",
   "execution_count": 8,
   "metadata": {},
   "outputs": [
    {
     "data": {
      "text/plain": [
       "0.42026302995673037"
      ]
     },
     "execution_count": 8,
     "metadata": {},
     "output_type": "execute_result"
    }
   ],
   "source": [
    "interception.gash(\n",
    "    total_precipitation_of_day = 1.38,\n",
    "    canopy_storage_capacity = 0.252,\n",
    "    canopy_cover = 0.5,\n",
    "    evaporation_to_rainfall_ratio = 0.02 ,\n",
    "    trunk_storage_capacity = 0.157,\n",
    "    stem_flow = 1.12\n",
    ")"
   ]
  },
  {
   "cell_type": "code",
   "execution_count": 10,
   "metadata": {},
   "outputs": [
    {
     "data": {
      "text/plain": [
       "0.4288630299567303"
      ]
     },
     "execution_count": 10,
     "metadata": {},
     "output_type": "execute_result"
    }
   ],
   "source": [
    "interception.gash(\n",
    "    total_precipitation_of_day = 1.38,\n",
    "    canopy_storage_capacity = 0.252,\n",
    "    canopy_cover = 0.5,\n",
    "    evaporation_to_rainfall_ratio = 0.02,\n",
    "    trunk_storage_capacity = 0.24,\n",
    "    stem_flow = 0.12,\n",
    ")"
   ]
  },
  {
   "cell_type": "markdown",
   "metadata": {},
   "source": [
    "check calculate ratio of trunk storage capacity to stem flow"
   ]
  },
  {
   "cell_type": "code",
   "execution_count": 7,
   "metadata": {},
   "outputs": [
    {
     "data": {
      "text/plain": [
       "0.1401785714285714"
      ]
     },
     "execution_count": 7,
     "metadata": {},
     "output_type": "execute_result"
    }
   ],
   "source": [
    "ratio_of_trunk_storage_capacity_to_stem_flow(\n",
    "    trunk_storage_capacity = 0.157,\n",
    "    stem_flow = 1.12\n",
    ")"
   ]
  },
  {
   "cell_type": "code",
   "execution_count": 9,
   "metadata": {},
   "outputs": [
    {
     "data": {
      "text/plain": [
       "2.0"
      ]
     },
     "execution_count": 9,
     "metadata": {},
     "output_type": "execute_result"
    }
   ],
   "source": [
    "ratio_of_trunk_storage_capacity_to_stem_flow(\n",
    "    trunk_storage_capacity = 0.24,\n",
    "    stem_flow = 0.12\n",
    ")"
   ]
  }
 ],
 "metadata": {
  "kernelspec": {
   "display_name": "Python 3.8.10 64-bit",
   "language": "python",
   "name": "python3"
  },
  "language_info": {
   "codemirror_mode": {
    "name": "ipython",
    "version": 3
   },
   "file_extension": ".py",
   "mimetype": "text/x-python",
   "name": "python",
   "nbconvert_exporter": "python",
   "pygments_lexer": "ipython3",
   "version": "3.8.10"
  },
  "orig_nbformat": 4,
  "vscode": {
   "interpreter": {
    "hash": "916dbcbb3f70747c44a77c7bcd40155683ae19c65e1c03b4aa3499c5328201f1"
   }
  }
 },
 "nbformat": 4,
 "nbformat_minor": 2
}
