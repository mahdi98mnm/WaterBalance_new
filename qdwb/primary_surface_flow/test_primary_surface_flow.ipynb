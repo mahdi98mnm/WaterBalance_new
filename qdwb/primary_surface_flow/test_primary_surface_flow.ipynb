{
 "cells": [
  {
   "cell_type": "markdown",
   "metadata": {},
   "source": [
    "## Check\n",
    "#### Check if precipitation value is negative"
   ]
  },
  {
   "cell_type": "code",
   "execution_count": 1,
   "metadata": {},
   "outputs": [],
   "source": [
    "from primary_surface_flow import *\n"
   ]
  },
  {
   "cell_type": "code",
   "execution_count": 5,
   "metadata": {},
   "outputs": [],
   "source": [
    "check_precipitation(precipitation=95)"
   ]
  },
  {
   "cell_type": "code",
   "execution_count": 6,
   "metadata": {},
   "outputs": [
    {
     "ename": "ValueError",
     "evalue": "Precipitation value must be greater than zero: -95",
     "output_type": "error",
     "traceback": [
      "\u001b[0;31m---------------------------------------------------------------------------\u001b[0m",
      "\u001b[0;31mValueError\u001b[0m                                Traceback (most recent call last)",
      "\u001b[1;32m/home/mahdi/QDWB/qdwb/primary_surface_flow/test_primary_surface_flow.ipynb Cell 4\u001b[0m in \u001b[0;36m<cell line: 1>\u001b[0;34m()\u001b[0m\n\u001b[0;32m----> <a href='vscode-notebook-cell://wsl%2Bubuntu/home/mahdi/QDWB/qdwb/primary_surface_flow/test_primary_surface_flow.ipynb#W3sdnNjb2RlLXJlbW90ZQ%3D%3D?line=0'>1</a>\u001b[0m check_precipitation(precipitation\u001b[39m=\u001b[39;49m\u001b[39m-\u001b[39;49m\u001b[39m95\u001b[39;49m)\n",
      "File \u001b[0;32m~/QDWB/qdwb/primary_surface_flow/check.py:31\u001b[0m, in \u001b[0;36mcheck_precipitation\u001b[0;34m(precipitation)\u001b[0m\n\u001b[1;32m     26\u001b[0m     \u001b[39mraise\u001b[39;00m \u001b[39mTypeError\u001b[39;00m(\n\u001b[1;32m     27\u001b[0m         \u001b[39mf\u001b[39m\u001b[39m'\u001b[39m\u001b[39mPrecipitation value must be int or float: \u001b[39m\u001b[39m{\u001b[39;00mprecipitation\u001b[39m}\u001b[39;00m\u001b[39m'\u001b[39m\n\u001b[1;32m     28\u001b[0m     )\n\u001b[1;32m     30\u001b[0m \u001b[39mif\u001b[39;00m lt(precipitation, \u001b[39m0\u001b[39m):\n\u001b[0;32m---> 31\u001b[0m     \u001b[39mraise\u001b[39;00m \u001b[39mValueError\u001b[39;00m(\n\u001b[1;32m     32\u001b[0m         \u001b[39mf\u001b[39m\u001b[39m'\u001b[39m\u001b[39mPrecipitation value must be greater than zero: \u001b[39m\u001b[39m{\u001b[39;00mprecipitation\u001b[39m}\u001b[39;00m\u001b[39m'\u001b[39m\n\u001b[1;32m     33\u001b[0m     )\n",
      "\u001b[0;31mValueError\u001b[0m: Precipitation value must be greater than zero: -95"
     ]
    }
   ],
   "source": [
    "check_precipitation(precipitation=-95)"
   ]
  },
  {
   "cell_type": "code",
   "execution_count": 7,
   "metadata": {},
   "outputs": [
    {
     "ename": "TypeError",
     "evalue": "Precipitation value must be int or float: 95",
     "output_type": "error",
     "traceback": [
      "\u001b[0;31m---------------------------------------------------------------------------\u001b[0m",
      "\u001b[0;31mTypeError\u001b[0m                                 Traceback (most recent call last)",
      "\u001b[1;32m/home/mahdi/QDWB/qdwb/primary_surface_flow/test_primary_surface_flow.ipynb Cell 5\u001b[0m in \u001b[0;36m<cell line: 1>\u001b[0;34m()\u001b[0m\n\u001b[0;32m----> <a href='vscode-notebook-cell://wsl%2Bubuntu/home/mahdi/QDWB/qdwb/primary_surface_flow/test_primary_surface_flow.ipynb#W4sdnNjb2RlLXJlbW90ZQ%3D%3D?line=0'>1</a>\u001b[0m check_precipitation(precipitation\u001b[39m=\u001b[39;49m\u001b[39m\"\u001b[39;49m\u001b[39m95\u001b[39;49m\u001b[39m\"\u001b[39;49m)\n",
      "File \u001b[0;32m~/QDWB/qdwb/primary_surface_flow/check.py:26\u001b[0m, in \u001b[0;36mcheck_precipitation\u001b[0;34m(precipitation)\u001b[0m\n\u001b[1;32m     14\u001b[0m \u001b[39m\"\"\"\u001b[39;00m\n\u001b[1;32m     15\u001b[0m \u001b[39mDescription\u001b[39;00m\n\u001b[1;32m     16\u001b[0m \u001b[39m-----------\u001b[39;00m\n\u001b[0;32m   (...)\u001b[0m\n\u001b[1;32m     22\u001b[0m \u001b[39m    Event rainfall depth - Starts from 0 - mm\u001b[39;00m\n\u001b[1;32m     23\u001b[0m \u001b[39m\"\"\"\u001b[39;00m\n\u001b[1;32m     25\u001b[0m \u001b[39mif\u001b[39;00m \u001b[39mnot\u001b[39;00m \u001b[39misinstance\u001b[39m(precipitation, (\u001b[39mint\u001b[39m, \u001b[39mfloat\u001b[39m)):\n\u001b[0;32m---> 26\u001b[0m     \u001b[39mraise\u001b[39;00m \u001b[39mTypeError\u001b[39;00m(\n\u001b[1;32m     27\u001b[0m         \u001b[39mf\u001b[39m\u001b[39m'\u001b[39m\u001b[39mPrecipitation value must be int or float: \u001b[39m\u001b[39m{\u001b[39;00mprecipitation\u001b[39m}\u001b[39;00m\u001b[39m'\u001b[39m\n\u001b[1;32m     28\u001b[0m     )\n\u001b[1;32m     30\u001b[0m \u001b[39mif\u001b[39;00m lt(precipitation, \u001b[39m0\u001b[39m):\n\u001b[1;32m     31\u001b[0m     \u001b[39mraise\u001b[39;00m \u001b[39mValueError\u001b[39;00m(\n\u001b[1;32m     32\u001b[0m         \u001b[39mf\u001b[39m\u001b[39m'\u001b[39m\u001b[39mPrecipitation value must be greater than zero: \u001b[39m\u001b[39m{\u001b[39;00mprecipitation\u001b[39m}\u001b[39;00m\u001b[39m'\u001b[39m\n\u001b[1;32m     33\u001b[0m     )\n",
      "\u001b[0;31mTypeError\u001b[0m: Precipitation value must be int or float: 95"
     ]
    }
   ],
   "source": [
    "check_precipitation(precipitation=\"95\")"
   ]
  },
  {
   "cell_type": "markdown",
   "metadata": {},
   "source": [
    "#### Check if curve number is valid"
   ]
  },
  {
   "cell_type": "code",
   "execution_count": 9,
   "metadata": {},
   "outputs": [],
   "source": [
    "check_curve_number(curve_number=95.5)"
   ]
  },
  {
   "cell_type": "code",
   "execution_count": 10,
   "metadata": {},
   "outputs": [
    {
     "ename": "ValueError",
     "evalue": "Curve number must be between 0 to 100: -95.5",
     "output_type": "error",
     "traceback": [
      "\u001b[0;31m---------------------------------------------------------------------------\u001b[0m",
      "\u001b[0;31mValueError\u001b[0m                                Traceback (most recent call last)",
      "\u001b[1;32m/home/mahdi/QDWB/qdwb/primary_surface_flow/test_primary_surface_flow.ipynb Cell 8\u001b[0m in \u001b[0;36m<cell line: 1>\u001b[0;34m()\u001b[0m\n\u001b[0;32m----> <a href='vscode-notebook-cell://wsl%2Bubuntu/home/mahdi/QDWB/qdwb/primary_surface_flow/test_primary_surface_flow.ipynb#X11sdnNjb2RlLXJlbW90ZQ%3D%3D?line=0'>1</a>\u001b[0m check_curve_number(curve_number\u001b[39m=\u001b[39;49m\u001b[39m-\u001b[39;49m\u001b[39m95.5\u001b[39;49m)\n",
      "File \u001b[0;32m~/QDWB/qdwb/primary_surface_flow/check.py:57\u001b[0m, in \u001b[0;36mcheck_curve_number\u001b[0;34m(curve_number)\u001b[0m\n\u001b[1;32m     52\u001b[0m     \u001b[39mraise\u001b[39;00m \u001b[39mTypeError\u001b[39;00m(\n\u001b[1;32m     53\u001b[0m         \u001b[39mf\u001b[39m\u001b[39m'\u001b[39m\u001b[39mCurve number must be int or float: \u001b[39m\u001b[39m{\u001b[39;00mcurve_number\u001b[39m}\u001b[39;00m\u001b[39m'\u001b[39m\n\u001b[1;32m     54\u001b[0m     )\n\u001b[1;32m     56\u001b[0m \u001b[39mif\u001b[39;00m lt(curve_number, \u001b[39m0\u001b[39m) \u001b[39mor\u001b[39;00m gt(curve_number, \u001b[39m100\u001b[39m):\n\u001b[0;32m---> 57\u001b[0m     \u001b[39mraise\u001b[39;00m \u001b[39mValueError\u001b[39;00m(\n\u001b[1;32m     58\u001b[0m         \u001b[39mf\u001b[39m\u001b[39m'\u001b[39m\u001b[39mCurve number must be between 0 to 100: \u001b[39m\u001b[39m{\u001b[39;00mcurve_number\u001b[39m}\u001b[39;00m\u001b[39m'\u001b[39m\n\u001b[1;32m     59\u001b[0m     )\n",
      "\u001b[0;31mValueError\u001b[0m: Curve number must be between 0 to 100: -95.5"
     ]
    }
   ],
   "source": [
    "check_curve_number(curve_number=-95.5)"
   ]
  },
  {
   "cell_type": "code",
   "execution_count": 12,
   "metadata": {},
   "outputs": [
    {
     "ename": "TypeError",
     "evalue": "Curve number must be int or float: 95.5",
     "output_type": "error",
     "traceback": [
      "\u001b[0;31m---------------------------------------------------------------------------\u001b[0m",
      "\u001b[0;31mTypeError\u001b[0m                                 Traceback (most recent call last)",
      "\u001b[1;32m/home/mahdi/QDWB/qdwb/primary_surface_flow/test_primary_surface_flow.ipynb Cell 9\u001b[0m in \u001b[0;36m<cell line: 1>\u001b[0;34m()\u001b[0m\n\u001b[0;32m----> <a href='vscode-notebook-cell://wsl%2Bubuntu/home/mahdi/QDWB/qdwb/primary_surface_flow/test_primary_surface_flow.ipynb#X12sdnNjb2RlLXJlbW90ZQ%3D%3D?line=0'>1</a>\u001b[0m check_curve_number(curve_number\u001b[39m=\u001b[39;49m\u001b[39m\"\u001b[39;49m\u001b[39m95.5\u001b[39;49m\u001b[39m\"\u001b[39;49m)\n",
      "File \u001b[0;32m~/QDWB/qdwb/primary_surface_flow/check.py:52\u001b[0m, in \u001b[0;36mcheck_curve_number\u001b[0;34m(curve_number)\u001b[0m\n\u001b[1;32m     40\u001b[0m \u001b[39m\"\"\"\u001b[39;00m\n\u001b[1;32m     41\u001b[0m \u001b[39mDescription\u001b[39;00m\n\u001b[1;32m     42\u001b[0m \u001b[39m-----------\u001b[39;00m\n\u001b[0;32m   (...)\u001b[0m\n\u001b[1;32m     48\u001b[0m \u001b[39m    An index of the land condition as indicated by soils, cover, land use - Between 0 to 100 - dimensionless\u001b[39;00m\n\u001b[1;32m     49\u001b[0m \u001b[39m\"\"\"\u001b[39;00m\n\u001b[1;32m     51\u001b[0m \u001b[39mif\u001b[39;00m \u001b[39mnot\u001b[39;00m \u001b[39misinstance\u001b[39m(curve_number, (\u001b[39mint\u001b[39m, \u001b[39mfloat\u001b[39m)):\n\u001b[0;32m---> 52\u001b[0m     \u001b[39mraise\u001b[39;00m \u001b[39mTypeError\u001b[39;00m(\n\u001b[1;32m     53\u001b[0m         \u001b[39mf\u001b[39m\u001b[39m'\u001b[39m\u001b[39mCurve number must be int or float: \u001b[39m\u001b[39m{\u001b[39;00mcurve_number\u001b[39m}\u001b[39;00m\u001b[39m'\u001b[39m\n\u001b[1;32m     54\u001b[0m     )\n\u001b[1;32m     56\u001b[0m \u001b[39mif\u001b[39;00m lt(curve_number, \u001b[39m0\u001b[39m) \u001b[39mor\u001b[39;00m gt(curve_number, \u001b[39m100\u001b[39m):\n\u001b[1;32m     57\u001b[0m     \u001b[39mraise\u001b[39;00m \u001b[39mValueError\u001b[39;00m(\n\u001b[1;32m     58\u001b[0m         \u001b[39mf\u001b[39m\u001b[39m'\u001b[39m\u001b[39mCurve number must be between 0 to 100: \u001b[39m\u001b[39m{\u001b[39;00mcurve_number\u001b[39m}\u001b[39;00m\u001b[39m'\u001b[39m\n\u001b[1;32m     59\u001b[0m     )\n",
      "\u001b[0;31mTypeError\u001b[0m: Curve number must be int or float: 95.5"
     ]
    }
   ],
   "source": [
    "check_curve_number(curve_number=\"95.5\")"
   ]
  },
  {
   "cell_type": "code",
   "execution_count": 13,
   "metadata": {},
   "outputs": [
    {
     "ename": "ValueError",
     "evalue": "Curve number must be between 0 to 100: 195.5",
     "output_type": "error",
     "traceback": [
      "\u001b[0;31m---------------------------------------------------------------------------\u001b[0m",
      "\u001b[0;31mValueError\u001b[0m                                Traceback (most recent call last)",
      "\u001b[1;32m/home/mahdi/QDWB/qdwb/primary_surface_flow/test_primary_surface_flow.ipynb Cell 10\u001b[0m in \u001b[0;36m<cell line: 1>\u001b[0;34m()\u001b[0m\n\u001b[0;32m----> <a href='vscode-notebook-cell://wsl%2Bubuntu/home/mahdi/QDWB/qdwb/primary_surface_flow/test_primary_surface_flow.ipynb#X13sdnNjb2RlLXJlbW90ZQ%3D%3D?line=0'>1</a>\u001b[0m check_curve_number(curve_number\u001b[39m=\u001b[39;49m\u001b[39m195.5\u001b[39;49m)\n",
      "File \u001b[0;32m~/QDWB/qdwb/primary_surface_flow/check.py:57\u001b[0m, in \u001b[0;36mcheck_curve_number\u001b[0;34m(curve_number)\u001b[0m\n\u001b[1;32m     52\u001b[0m     \u001b[39mraise\u001b[39;00m \u001b[39mTypeError\u001b[39;00m(\n\u001b[1;32m     53\u001b[0m         \u001b[39mf\u001b[39m\u001b[39m'\u001b[39m\u001b[39mCurve number must be int or float: \u001b[39m\u001b[39m{\u001b[39;00mcurve_number\u001b[39m}\u001b[39;00m\u001b[39m'\u001b[39m\n\u001b[1;32m     54\u001b[0m     )\n\u001b[1;32m     56\u001b[0m \u001b[39mif\u001b[39;00m lt(curve_number, \u001b[39m0\u001b[39m) \u001b[39mor\u001b[39;00m gt(curve_number, \u001b[39m100\u001b[39m):\n\u001b[0;32m---> 57\u001b[0m     \u001b[39mraise\u001b[39;00m \u001b[39mValueError\u001b[39;00m(\n\u001b[1;32m     58\u001b[0m         \u001b[39mf\u001b[39m\u001b[39m'\u001b[39m\u001b[39mCurve number must be between 0 to 100: \u001b[39m\u001b[39m{\u001b[39;00mcurve_number\u001b[39m}\u001b[39;00m\u001b[39m'\u001b[39m\n\u001b[1;32m     59\u001b[0m     )\n",
      "\u001b[0;31mValueError\u001b[0m: Curve number must be between 0 to 100: 195.5"
     ]
    }
   ],
   "source": [
    "check_curve_number(curve_number=195.5)"
   ]
  },
  {
   "cell_type": "markdown",
   "metadata": {},
   "source": [
    "#### Check if Runoff source area is valid"
   ]
  },
  {
   "cell_type": "code",
   "execution_count": 14,
   "metadata": {},
   "outputs": [],
   "source": [
    "check_rsa(rsa=True)"
   ]
  },
  {
   "cell_type": "code",
   "execution_count": 15,
   "metadata": {},
   "outputs": [
    {
     "ename": "TypeError",
     "evalue": "RSA must be boolean: 0",
     "output_type": "error",
     "traceback": [
      "\u001b[0;31m---------------------------------------------------------------------------\u001b[0m",
      "\u001b[0;31mTypeError\u001b[0m                                 Traceback (most recent call last)",
      "\u001b[1;32m/home/mahdi/QDWB/qdwb/primary_surface_flow/test_primary_surface_flow.ipynb Cell 13\u001b[0m in \u001b[0;36m<cell line: 1>\u001b[0;34m()\u001b[0m\n\u001b[0;32m----> <a href='vscode-notebook-cell://wsl%2Bubuntu/home/mahdi/QDWB/qdwb/primary_surface_flow/test_primary_surface_flow.ipynb#X20sdnNjb2RlLXJlbW90ZQ%3D%3D?line=0'>1</a>\u001b[0m check_rsa(rsa\u001b[39m=\u001b[39;49m\u001b[39m0\u001b[39;49m)\n",
      "File \u001b[0;32m~/QDWB/qdwb/primary_surface_flow/check.py:78\u001b[0m, in \u001b[0;36mcheck_rsa\u001b[0;34m(rsa)\u001b[0m\n\u001b[1;32m     66\u001b[0m \u001b[39m\"\"\"\u001b[39;00m\n\u001b[1;32m     67\u001b[0m \u001b[39mDescription\u001b[39;00m\n\u001b[1;32m     68\u001b[0m \u001b[39m-----------\u001b[39;00m\n\u001b[0;32m   (...)\u001b[0m\n\u001b[1;32m     74\u001b[0m \u001b[39m    Runoff source area - 0 or 1 - dimensionless\u001b[39;00m\n\u001b[1;32m     75\u001b[0m \u001b[39m\"\"\"\u001b[39;00m\n\u001b[1;32m     77\u001b[0m \u001b[39mif\u001b[39;00m \u001b[39mnot\u001b[39;00m \u001b[39misinstance\u001b[39m(rsa, \u001b[39mbool\u001b[39m):\n\u001b[0;32m---> 78\u001b[0m     \u001b[39mraise\u001b[39;00m \u001b[39mTypeError\u001b[39;00m(\n\u001b[1;32m     79\u001b[0m         \u001b[39mf\u001b[39m\u001b[39m'\u001b[39m\u001b[39mRSA must be boolean: \u001b[39m\u001b[39m{\u001b[39;00mrsa\u001b[39m}\u001b[39;00m\u001b[39m'\u001b[39m\n\u001b[1;32m     80\u001b[0m     )\n",
      "\u001b[0;31mTypeError\u001b[0m: RSA must be boolean: 0"
     ]
    }
   ],
   "source": [
    "check_rsa(rsa=0)"
   ]
  },
  {
   "cell_type": "code",
   "execution_count": 16,
   "metadata": {},
   "outputs": [
    {
     "ename": "TypeError",
     "evalue": "RSA must be boolean: 0",
     "output_type": "error",
     "traceback": [
      "\u001b[0;31m---------------------------------------------------------------------------\u001b[0m",
      "\u001b[0;31mTypeError\u001b[0m                                 Traceback (most recent call last)",
      "\u001b[1;32m/home/mahdi/QDWB/qdwb/primary_surface_flow/test_primary_surface_flow.ipynb Cell 14\u001b[0m in \u001b[0;36m<cell line: 1>\u001b[0;34m()\u001b[0m\n\u001b[0;32m----> <a href='vscode-notebook-cell://wsl%2Bubuntu/home/mahdi/QDWB/qdwb/primary_surface_flow/test_primary_surface_flow.ipynb#X21sdnNjb2RlLXJlbW90ZQ%3D%3D?line=0'>1</a>\u001b[0m check_rsa(rsa\u001b[39m=\u001b[39;49m\u001b[39m\"\u001b[39;49m\u001b[39m0\u001b[39;49m\u001b[39m\"\u001b[39;49m)\n",
      "File \u001b[0;32m~/QDWB/qdwb/primary_surface_flow/check.py:78\u001b[0m, in \u001b[0;36mcheck_rsa\u001b[0;34m(rsa)\u001b[0m\n\u001b[1;32m     66\u001b[0m \u001b[39m\"\"\"\u001b[39;00m\n\u001b[1;32m     67\u001b[0m \u001b[39mDescription\u001b[39;00m\n\u001b[1;32m     68\u001b[0m \u001b[39m-----------\u001b[39;00m\n\u001b[0;32m   (...)\u001b[0m\n\u001b[1;32m     74\u001b[0m \u001b[39m    Runoff source area - 0 or 1 - dimensionless\u001b[39;00m\n\u001b[1;32m     75\u001b[0m \u001b[39m\"\"\"\u001b[39;00m\n\u001b[1;32m     77\u001b[0m \u001b[39mif\u001b[39;00m \u001b[39mnot\u001b[39;00m \u001b[39misinstance\u001b[39m(rsa, \u001b[39mbool\u001b[39m):\n\u001b[0;32m---> 78\u001b[0m     \u001b[39mraise\u001b[39;00m \u001b[39mTypeError\u001b[39;00m(\n\u001b[1;32m     79\u001b[0m         \u001b[39mf\u001b[39m\u001b[39m'\u001b[39m\u001b[39mRSA must be boolean: \u001b[39m\u001b[39m{\u001b[39;00mrsa\u001b[39m}\u001b[39;00m\u001b[39m'\u001b[39m\n\u001b[1;32m     80\u001b[0m     )\n",
      "\u001b[0;31mTypeError\u001b[0m: RSA must be boolean: 0"
     ]
    }
   ],
   "source": [
    "check_rsa(rsa=\"0\")"
   ]
  },
  {
   "cell_type": "markdown",
   "metadata": {},
   "source": [
    "#### Check if Antecedent precipitation is valid"
   ]
  },
  {
   "cell_type": "code",
   "execution_count": 17,
   "metadata": {},
   "outputs": [],
   "source": [
    "check_antecedent_precipitation(antecedent_precipitation=20)"
   ]
  },
  {
   "cell_type": "code",
   "execution_count": 18,
   "metadata": {},
   "outputs": [
    {
     "ename": "ValueError",
     "evalue": "Antecedent precipitation must be greater than zero: -20",
     "output_type": "error",
     "traceback": [
      "\u001b[0;31m---------------------------------------------------------------------------\u001b[0m",
      "\u001b[0;31mValueError\u001b[0m                                Traceback (most recent call last)",
      "\u001b[1;32m/home/mahdi/QDWB/qdwb/primary_surface_flow/test_primary_surface_flow.ipynb Cell 17\u001b[0m in \u001b[0;36m<cell line: 1>\u001b[0;34m()\u001b[0m\n\u001b[0;32m----> <a href='vscode-notebook-cell://wsl%2Bubuntu/home/mahdi/QDWB/qdwb/primary_surface_flow/test_primary_surface_flow.ipynb#X24sdnNjb2RlLXJlbW90ZQ%3D%3D?line=0'>1</a>\u001b[0m check_antecedent_precipitation(antecedent_precipitation\u001b[39m=\u001b[39;49m\u001b[39m-\u001b[39;49m\u001b[39m20\u001b[39;49m)\n",
      "File \u001b[0;32m~/QDWB/qdwb/primary_surface_flow/check.py:104\u001b[0m, in \u001b[0;36mcheck_antecedent_precipitation\u001b[0;34m(antecedent_precipitation)\u001b[0m\n\u001b[1;32m     99\u001b[0m     \u001b[39mraise\u001b[39;00m \u001b[39mTypeError\u001b[39;00m(\n\u001b[1;32m    100\u001b[0m         \u001b[39mf\u001b[39m\u001b[39m'\u001b[39m\u001b[39mAntecedent precipitation must be int or float: \u001b[39m\u001b[39m{\u001b[39;00mantecedent_precipitation\u001b[39m}\u001b[39;00m\u001b[39m'\u001b[39m\n\u001b[1;32m    101\u001b[0m     )\n\u001b[1;32m    103\u001b[0m \u001b[39mif\u001b[39;00m lt(antecedent_precipitation, \u001b[39m0\u001b[39m):\n\u001b[0;32m--> 104\u001b[0m     \u001b[39mraise\u001b[39;00m \u001b[39mValueError\u001b[39;00m(\n\u001b[1;32m    105\u001b[0m         \u001b[39mf\u001b[39m\u001b[39m'\u001b[39m\u001b[39mAntecedent precipitation must be greater than zero: \u001b[39m\u001b[39m{\u001b[39;00mantecedent_precipitation\u001b[39m}\u001b[39;00m\u001b[39m'\u001b[39m\n\u001b[1;32m    106\u001b[0m     )\n",
      "\u001b[0;31mValueError\u001b[0m: Antecedent precipitation must be greater than zero: -20"
     ]
    }
   ],
   "source": [
    "check_antecedent_precipitation(antecedent_precipitation=-20)"
   ]
  },
  {
   "cell_type": "code",
   "execution_count": 19,
   "metadata": {},
   "outputs": [
    {
     "ename": "TypeError",
     "evalue": "Antecedent precipitation must be int or float: 20",
     "output_type": "error",
     "traceback": [
      "\u001b[0;31m---------------------------------------------------------------------------\u001b[0m",
      "\u001b[0;31mTypeError\u001b[0m                                 Traceback (most recent call last)",
      "\u001b[1;32m/home/mahdi/QDWB/qdwb/primary_surface_flow/test_primary_surface_flow.ipynb Cell 18\u001b[0m in \u001b[0;36m<cell line: 1>\u001b[0;34m()\u001b[0m\n\u001b[0;32m----> <a href='vscode-notebook-cell://wsl%2Bubuntu/home/mahdi/QDWB/qdwb/primary_surface_flow/test_primary_surface_flow.ipynb#X25sdnNjb2RlLXJlbW90ZQ%3D%3D?line=0'>1</a>\u001b[0m check_antecedent_precipitation(antecedent_precipitation\u001b[39m=\u001b[39;49m\u001b[39m\"\u001b[39;49m\u001b[39m20\u001b[39;49m\u001b[39m\"\u001b[39;49m)\n",
      "File \u001b[0;32m~/QDWB/qdwb/primary_surface_flow/check.py:99\u001b[0m, in \u001b[0;36mcheck_antecedent_precipitation\u001b[0;34m(antecedent_precipitation)\u001b[0m\n\u001b[1;32m     87\u001b[0m \u001b[39m\"\"\"\u001b[39;00m\n\u001b[1;32m     88\u001b[0m \u001b[39mDescription\u001b[39;00m\n\u001b[1;32m     89\u001b[0m \u001b[39m-----------\u001b[39;00m\n\u001b[0;32m   (...)\u001b[0m\n\u001b[1;32m     95\u001b[0m \u001b[39m    Antecedent precipitation is precipitation falling before, but influencing the runoff yields of, a given rainfall event - Starts from 0 - mm\u001b[39;00m\n\u001b[1;32m     96\u001b[0m \u001b[39m\"\"\"\u001b[39;00m\n\u001b[1;32m     98\u001b[0m \u001b[39mif\u001b[39;00m \u001b[39mnot\u001b[39;00m \u001b[39misinstance\u001b[39m(antecedent_precipitation, (\u001b[39mint\u001b[39m, \u001b[39mfloat\u001b[39m)):\n\u001b[0;32m---> 99\u001b[0m     \u001b[39mraise\u001b[39;00m \u001b[39mTypeError\u001b[39;00m(\n\u001b[1;32m    100\u001b[0m         \u001b[39mf\u001b[39m\u001b[39m'\u001b[39m\u001b[39mAntecedent precipitation must be int or float: \u001b[39m\u001b[39m{\u001b[39;00mantecedent_precipitation\u001b[39m}\u001b[39;00m\u001b[39m'\u001b[39m\n\u001b[1;32m    101\u001b[0m     )\n\u001b[1;32m    103\u001b[0m \u001b[39mif\u001b[39;00m lt(antecedent_precipitation, \u001b[39m0\u001b[39m):\n\u001b[1;32m    104\u001b[0m     \u001b[39mraise\u001b[39;00m \u001b[39mValueError\u001b[39;00m(\n\u001b[1;32m    105\u001b[0m         \u001b[39mf\u001b[39m\u001b[39m'\u001b[39m\u001b[39mAntecedent precipitation must be greater than zero: \u001b[39m\u001b[39m{\u001b[39;00mantecedent_precipitation\u001b[39m}\u001b[39;00m\u001b[39m'\u001b[39m\n\u001b[1;32m    106\u001b[0m     )\n",
      "\u001b[0;31mTypeError\u001b[0m: Antecedent precipitation must be int or float: 20"
     ]
    }
   ],
   "source": [
    "check_antecedent_precipitation(antecedent_precipitation=\"20\")"
   ]
  },
  {
   "cell_type": "markdown",
   "metadata": {},
   "source": [
    "#### Check if is_growing_season is valid"
   ]
  },
  {
   "cell_type": "code",
   "execution_count": 20,
   "metadata": {},
   "outputs": [],
   "source": [
    "check_is_growing_season(is_growing_season=False)"
   ]
  },
  {
   "cell_type": "code",
   "execution_count": 21,
   "metadata": {},
   "outputs": [
    {
     "ename": "TypeError",
     "evalue": "is_growing_season must be boolean: 1",
     "output_type": "error",
     "traceback": [
      "\u001b[0;31m---------------------------------------------------------------------------\u001b[0m",
      "\u001b[0;31mTypeError\u001b[0m                                 Traceback (most recent call last)",
      "\u001b[1;32m/home/mahdi/QDWB/qdwb/primary_surface_flow/test_primary_surface_flow.ipynb Cell 21\u001b[0m in \u001b[0;36m<cell line: 1>\u001b[0;34m()\u001b[0m\n\u001b[0;32m----> <a href='vscode-notebook-cell://wsl%2Bubuntu/home/mahdi/QDWB/qdwb/primary_surface_flow/test_primary_surface_flow.ipynb#X32sdnNjb2RlLXJlbW90ZQ%3D%3D?line=0'>1</a>\u001b[0m check_is_growing_season(is_growing_season\u001b[39m=\u001b[39;49m\u001b[39m1\u001b[39;49m)\n",
      "File \u001b[0;32m~/QDWB/qdwb/primary_surface_flow/check.py:125\u001b[0m, in \u001b[0;36mcheck_is_growing_season\u001b[0;34m(is_growing_season)\u001b[0m\n\u001b[1;32m    113\u001b[0m \u001b[39m\"\"\"\u001b[39;00m\n\u001b[1;32m    114\u001b[0m \u001b[39mDescription\u001b[39;00m\n\u001b[1;32m    115\u001b[0m \u001b[39m-----------\u001b[39;00m\n\u001b[0;32m   (...)\u001b[0m\n\u001b[1;32m    121\u001b[0m \u001b[39m    Check if it's growing season or not - 0 or 1 - dimensionless\u001b[39;00m\n\u001b[1;32m    122\u001b[0m \u001b[39m\"\"\"\u001b[39;00m\n\u001b[1;32m    124\u001b[0m \u001b[39mif\u001b[39;00m \u001b[39mnot\u001b[39;00m \u001b[39misinstance\u001b[39m(is_growing_season, \u001b[39mbool\u001b[39m):\n\u001b[0;32m--> 125\u001b[0m     \u001b[39mraise\u001b[39;00m \u001b[39mTypeError\u001b[39;00m(\n\u001b[1;32m    126\u001b[0m         \u001b[39mf\u001b[39m\u001b[39m'\u001b[39m\u001b[39mis_growing_season must be boolean: \u001b[39m\u001b[39m{\u001b[39;00mis_growing_season\u001b[39m}\u001b[39;00m\u001b[39m'\u001b[39m\n\u001b[1;32m    127\u001b[0m     )\n",
      "\u001b[0;31mTypeError\u001b[0m: is_growing_season must be boolean: 1"
     ]
    }
   ],
   "source": [
    "check_is_growing_season(is_growing_season=1)"
   ]
  },
  {
   "cell_type": "code",
   "execution_count": 22,
   "metadata": {},
   "outputs": [
    {
     "ename": "TypeError",
     "evalue": "is_growing_season must be boolean: 1",
     "output_type": "error",
     "traceback": [
      "\u001b[0;31m---------------------------------------------------------------------------\u001b[0m",
      "\u001b[0;31mTypeError\u001b[0m                                 Traceback (most recent call last)",
      "\u001b[1;32m/home/mahdi/QDWB/qdwb/primary_surface_flow/test_primary_surface_flow.ipynb Cell 22\u001b[0m in \u001b[0;36m<cell line: 1>\u001b[0;34m()\u001b[0m\n\u001b[0;32m----> <a href='vscode-notebook-cell://wsl%2Bubuntu/home/mahdi/QDWB/qdwb/primary_surface_flow/test_primary_surface_flow.ipynb#X33sdnNjb2RlLXJlbW90ZQ%3D%3D?line=0'>1</a>\u001b[0m check_is_growing_season(is_growing_season\u001b[39m=\u001b[39;49m\u001b[39m\"\u001b[39;49m\u001b[39m1\u001b[39;49m\u001b[39m\"\u001b[39;49m)\n",
      "File \u001b[0;32m~/QDWB/qdwb/primary_surface_flow/check.py:125\u001b[0m, in \u001b[0;36mcheck_is_growing_season\u001b[0;34m(is_growing_season)\u001b[0m\n\u001b[1;32m    113\u001b[0m \u001b[39m\"\"\"\u001b[39;00m\n\u001b[1;32m    114\u001b[0m \u001b[39mDescription\u001b[39;00m\n\u001b[1;32m    115\u001b[0m \u001b[39m-----------\u001b[39;00m\n\u001b[0;32m   (...)\u001b[0m\n\u001b[1;32m    121\u001b[0m \u001b[39m    Check if it's growing season or not - 0 or 1 - dimensionless\u001b[39;00m\n\u001b[1;32m    122\u001b[0m \u001b[39m\"\"\"\u001b[39;00m\n\u001b[1;32m    124\u001b[0m \u001b[39mif\u001b[39;00m \u001b[39mnot\u001b[39;00m \u001b[39misinstance\u001b[39m(is_growing_season, \u001b[39mbool\u001b[39m):\n\u001b[0;32m--> 125\u001b[0m     \u001b[39mraise\u001b[39;00m \u001b[39mTypeError\u001b[39;00m(\n\u001b[1;32m    126\u001b[0m         \u001b[39mf\u001b[39m\u001b[39m'\u001b[39m\u001b[39mis_growing_season must be boolean: \u001b[39m\u001b[39m{\u001b[39;00mis_growing_season\u001b[39m}\u001b[39;00m\u001b[39m'\u001b[39m\n\u001b[1;32m    127\u001b[0m     )\n",
      "\u001b[0;31mTypeError\u001b[0m: is_growing_season must be boolean: 1"
     ]
    }
   ],
   "source": [
    "check_is_growing_season(is_growing_season=\"1\")"
   ]
  },
  {
   "cell_type": "markdown",
   "metadata": {},
   "source": [
    "## Primary Surface Flow"
   ]
  },
  {
   "cell_type": "code",
   "execution_count": 2,
   "metadata": {},
   "outputs": [
    {
     "name": "stdout",
     "output_type": "stream",
     "text": [
      "Calculated runoff: 73.8\n",
      "Calculated underground runoff: 12.6\n"
     ]
    }
   ],
   "source": [
    "# Tested against worked example from,\n",
    "# ICAR-Indian Agricultural Statistics Research Institute (IASRI), UG Courses - Agricultural Engineering, Lesson 6. Runoff Estimation,\n",
    "# http://ecoursesonline.iasri.res.in/mod/page/view.php?id=2174\n",
    "\n",
    "\n",
    "# print(calculate_potential_retention(95.6))\n",
    "calculated_runoff = PrimarySurfaceFlow.scs(precipitation=86.4 ,curve_number=95.6, rsa=True)[0].__round__(2)\n",
    "calculated_under_runoff = PrimarySurfaceFlow.scs(precipitation=86.4 ,curve_number=95.6, rsa=True)[1].__round__(2)\n",
    "\n",
    "print(f\"Calculated runoff: {calculated_runoff}\")\n",
    "print(f\"Calculated underground runoff: {calculated_under_runoff}\")"
   ]
  },
  {
   "cell_type": "code",
   "execution_count": 3,
   "metadata": {},
   "outputs": [
    {
     "name": "stdout",
     "output_type": "stream",
     "text": [
      "Calculated runoff: 25.1\n",
      "Calculated underground runoff: 69.9\n"
     ]
    }
   ],
   "source": [
    "# Tested against worked example from,\n",
    "# \"Design Manual, Chapter 2 - Stormwater, 2B - Urban Hydrology and Runoff\",\n",
    "# https://intrans.iastate.edu/app/uploads/sites/15/2020/03/2B-6.pdf\n",
    "\n",
    "calculated_runoff = PrimarySurfaceFlow.scs(precipitation=94.996 ,curve_number=67, rsa=True)[0].__round__(2)\n",
    "calculated_under_runoff = PrimarySurfaceFlow.scs(precipitation=94.996 ,curve_number=67, rsa=True)[1].__round__(2)\n",
    "\n",
    "print(f\"Calculated runoff: {calculated_runoff}\")\n",
    "print(f\"Calculated underground runoff: {calculated_under_runoff}\")"
   ]
  },
  {
   "cell_type": "code",
   "execution_count": 4,
   "metadata": {},
   "outputs": [
    {
     "name": "stdout",
     "output_type": "stream",
     "text": [
      "Calculated runoff: 61.23\n",
      "Calculated underground runoff: 8.62\n"
     ]
    }
   ],
   "source": [
    "# https://pepasspoint.com/water-resources-problem-solution-calculating-the-amount-of-runoff\n",
    "# A 20-acre suburban commercial lot has stores and parking lots.\n",
    "# The corresponding NRCS curve number is 97.\n",
    "# What is most nearly the amount of runoff created after a 2.75″ rain event over the course of 24 hours?\n",
    "\n",
    "calculated_runoff = PrimarySurfaceFlow.scs(precipitation=69.85 ,curve_number=97, rsa=True)[0].__round__(2)\n",
    "calculated_under_runoff = PrimarySurfaceFlow.scs(precipitation=69.85 ,curve_number=97, rsa=True)[1].__round__(2)\n",
    "\n",
    "print(f\"Calculated runoff: {calculated_runoff}\")\n",
    "print(f\"Calculated underground runoff: {calculated_under_runoff}\")"
   ]
  }
 ],
 "metadata": {
  "kernelspec": {
   "display_name": "Python 3.8.10 64-bit",
   "language": "python",
   "name": "python3"
  },
  "language_info": {
   "codemirror_mode": {
    "name": "ipython",
    "version": 3
   },
   "file_extension": ".py",
   "mimetype": "text/x-python",
   "name": "python",
   "nbconvert_exporter": "python",
   "pygments_lexer": "ipython3",
   "version": "3.8.10"
  },
  "orig_nbformat": 4,
  "vscode": {
   "interpreter": {
    "hash": "916dbcbb3f70747c44a77c7bcd40155683ae19c65e1c03b4aa3499c5328201f1"
   }
  }
 },
 "nbformat": 4,
 "nbformat_minor": 2
}
