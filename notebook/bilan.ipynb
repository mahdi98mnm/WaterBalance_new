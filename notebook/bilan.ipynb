{
  "cells": [
    {
      "cell_type": "markdown",
      "source": [
        "# Import Liberaries"
      ],
      "metadata": {
        "id": "7WtYQseQGuAP"
      }
    },
    {
      "cell_type": "code",
      "execution_count": 1,
      "metadata": {
        "id": "cKwJOoCPGh1a",
        "outputId": "270947b5-5fb8-4bce-ceb9-78ea0cad3900",
        "colab": {
          "base_uri": "https://localhost:8080/"
        }
      },
      "outputs": [
        {
          "output_type": "stream",
          "name": "stdout",
          "text": [
            "Mounted at /content/drive\n"
          ]
        }
      ],
      "source": [
        "import os, sys\n",
        "from google.colab import drive\n",
        "drive.mount('/content/drive')"
      ]
    },
    {
      "cell_type": "code",
      "source": [
        "# !pip install virtualenv"
      ],
      "metadata": {
        "id": "ibgyclKlGzva"
      },
      "execution_count": null,
      "outputs": []
    },
    {
      "cell_type": "code",
      "source": [
        "# !virtualenv /content/drive/MyDrive/colab_env"
      ],
      "metadata": {
        "id": "3AfntF3-G91j"
      },
      "execution_count": null,
      "outputs": []
    },
    {
      "cell_type": "code",
      "source": [
        "# !source /content/drive/MyDrive/colab_env/bin/activate; pip install netCDF4 geopandas pyet rasterio wxee geemap rioxarray rasterio virtualenv\n",
        "!source /content/drive/MyDrive/colab_env/bin/activate"
      ],
      "metadata": {
        "id": "N06LyxcqHAV4"
      },
      "execution_count": 2,
      "outputs": []
    },
    {
      "cell_type": "code",
      "source": [
        "import os\n",
        "import sys\n",
        "sys.path.append(\"/content/drive/MyDrive/colab_env/lib/python3.10/site-packages\")\n",
        "import pandas as pd\n",
        "import numpy as np\n",
        "import netCDF4 as nc\n",
        "import xarray as xr\n",
        "import geopandas as gpd\n",
        "import pyet\n",
        "import pickle\n",
        "import pyproj\n",
        "import ee\n",
        "import wxee\n",
        "import geemap\n",
        "import itertools\n",
        "import rasterio\n",
        "from osgeo import gdal\n",
        "import rioxarray\n",
        "\n",
        "\n",
        "\n",
        "sys.path.append('/content/drive/MyDrive/WaterBalance_new')\n",
        "\n",
        "from qdwb.evapotranspiration.et import *\n",
        "from qdwb.evapotranspiration.asset import *\n",
        "from qdwb.evapotranspiration.convert import *\n",
        "from qdwb.coordinate.extract import *\n",
        "from qdwb.primary_surface_flow.primary_surface_flow import *\n",
        "from qdwb.primary_surface_flow.asset import *\n",
        "from qdwb.soil_content.soil import *"
      ],
      "metadata": {
        "id": "B2KJOxcHHFMz"
      },
      "execution_count": 3,
      "outputs": []
    },
    {
      "cell_type": "markdown",
      "source": [
        "## Authorize in Google Earth Engine"
      ],
      "metadata": {
        "id": "MWa-0AbeHVWK"
      }
    },
    {
      "cell_type": "code",
      "source": [
        "service_account = 'test-175@ee-mohammadnejadmehdi77.iam.gserviceaccount.com'\n",
        "\n",
        "credentials = ee.ServiceAccountCredentials(\n",
        "    email=service_account,\n",
        "    key_file='/content/drive/MyDrive/private-key.json'\n",
        ")\n",
        "\n",
        "ee.Initialize(credentials)"
      ],
      "metadata": {
        "id": "3RWYgpM-HWPu"
      },
      "execution_count": 4,
      "outputs": []
    },
    {
      "cell_type": "markdown",
      "source": [
        "# Variables"
      ],
      "metadata": {
        "id": "zYqMZz1uIE2n"
      }
    },
    {
      "cell_type": "code",
      "source": [
        "PATH_DATA = \"/content/drive/MyDrive/WaterBalance_new/assets\"\n",
        "\n",
        "# mashhad\n",
        "LAT_MIN = 35.80\n",
        "LAT_MAX = 37.11\n",
        "LON_MIN = 58.31\n",
        "LON_MAX = 60.14\n",
        "\n",
        "# USA\n",
        "# LAT_MIN = 43.30\n",
        "# LAT_MAX = 44.60\n",
        "# LON_MIN = -109.40\n",
        "# LON_MAX = -107.40"
      ],
      "metadata": {
        "id": "gKmkex4sIJka"
      },
      "execution_count": 5,
      "outputs": []
    },
    {
      "cell_type": "markdown",
      "source": [
        "# Functions"
      ],
      "metadata": {
        "id": "hrSn_5o-IOtw"
      }
    },
    {
      "cell_type": "code",
      "source": [
        "def mask_nc_file(\n",
        "    nc,\n",
        "    variable,\n",
        "    lat_min,\n",
        "    lat_max,\n",
        "    lon_min,\n",
        "    lon_max\n",
        "):\n",
        "    with xr.open_dataset(nc) as xr_nc:\n",
        "        result = xr_nc.sel(\n",
        "            lat = slice(lat_max, lat_min),\n",
        "            lon = slice(lon_min, lon_max),\n",
        "        )\n",
        "    return result"
      ],
      "metadata": {
        "id": "oWbwrSbhIRgc"
      },
      "execution_count": 6,
      "outputs": []
    },
    {
      "cell_type": "markdown",
      "source": [
        "# Load Data"
      ],
      "metadata": {
        "id": "MeXKxwWhIdFB"
      }
    },
    {
      "cell_type": "code",
      "source": [
        "# degree_Celsius - Max air temperature\n",
        "tmax = mask_nc_file(\n",
        "    nc = PATH_DATA + \"/nc/Tmax_2022031.nc\",\n",
        "    variable = \"air_temperature\",\n",
        "    lat_min = LAT_MIN,\n",
        "    lat_max = LAT_MAX,\n",
        "    lon_min = LON_MIN,\n",
        "    lon_max = LON_MAX\n",
        ")\n",
        "# degree_Celsius - Min air temperature\n",
        "tmin = mask_nc_file(\n",
        "    nc = PATH_DATA + \"/nc/Tmin_2022031.nc\",\n",
        "    variable = \"air_temperature\",\n",
        "    lat_min = LAT_MIN,\n",
        "    lat_max = LAT_MAX,\n",
        "    lon_min = LON_MIN,\n",
        "    lon_max = LON_MAX\n",
        ")\n",
        "# degree_Celsius - Mean air temperature\n",
        "tmean = mask_nc_file(\n",
        "    nc = PATH_DATA + \"/nc/Temp_2022031.nc\",\n",
        "    variable = \"air_temperature\",\n",
        "    lat_min = LAT_MIN,\n",
        "    lat_max = LAT_MAX,\n",
        "    lon_min = LON_MIN,\n",
        "    lon_max = LON_MAX\n",
        ")\n",
        "# m s-1 - wind_speed\n",
        "wind = mask_nc_file(\n",
        "    nc = PATH_DATA + \"/nc/wind_2022031.nc\",\n",
        "    variable = \"wind_speed\",\n",
        "    lat_min = LAT_MIN,\n",
        "    lat_max = LAT_MAX,\n",
        "    lon_min = LON_MIN,\n",
        "    lon_max = LON_MAX\n",
        ")\n",
        "# W m-2 - downward_shortwave_radiation\n",
        "Rns = mask_nc_file(\n",
        "    nc = PATH_DATA + \"/nc/SWd_2022031.nc\",\n",
        "    variable = \"downward_shortwave_radiation\",\n",
        "    lat_min = LAT_MIN,\n",
        "    lat_max = LAT_MAX,\n",
        "    lon_min = LON_MIN,\n",
        "    lon_max = LON_MAX\n",
        ")\n",
        "# kg kg-1 - specific_humidity\n",
        "specific_humidity = mask_nc_file(\n",
        "    nc = PATH_DATA + \"/nc/SpecHum_2022031.nc\",\n",
        "    variable = \"specific_humidity\",\n",
        "    lat_min = LAT_MIN,\n",
        "    lat_max = LAT_MAX,\n",
        "    lon_min = LON_MIN,\n",
        "    lon_max = LON_MAX\n",
        ")\n",
        "# Pa - surface_pressure\n",
        "surface_pressure = mask_nc_file(\n",
        "    nc = PATH_DATA + \"/nc/Pres_2022031.nc\",\n",
        "    variable = \"surface_pressure\",\n",
        "    lat_min = LAT_MIN,\n",
        "    lat_max = LAT_MAX,\n",
        "    lon_min = LON_MIN,\n",
        "    lon_max = LON_MAX\n",
        ")\n",
        "# mm d-1 - precipitation\n",
        "P = mask_nc_file(\n",
        "    nc = PATH_DATA + \"/nc/P_2022031.nc\",\n",
        "    variable = \"precipitation\",\n",
        "    lat_min = LAT_MIN,\n",
        "    lat_max = LAT_MAX,\n",
        "    lon_min = LON_MIN,\n",
        "    lon_max = LON_MAX\n",
        ")\n",
        "# W m-2 - downward_longwave_radiation\n",
        "Rnl = mask_nc_file(\n",
        "    nc = PATH_DATA + \"/nc/LWd_2022031.nc\",\n",
        "    variable = \"downward_longwave_radiation\",\n",
        "    lat_min = LAT_MIN,\n",
        "    lat_max = LAT_MAX,\n",
        "    lon_min = LON_MIN,\n",
        "    lon_max = LON_MAX\n",
        ")\n",
        "\n",
        "usa = gpd.read_file(PATH_DATA + \"/shape/usa.shp\")\n",
        "mashhad = gpd.read_file(PATH_DATA + \"/shape/mahdoode_mashhad.shp\")"
      ],
      "metadata": {
        "id": "nNUsvAZoId0U"
      },
      "execution_count": 8,
      "outputs": []
    },
    {
      "cell_type": "markdown",
      "source": [
        "# initial soil moisture"
      ],
      "metadata": {
        "id": "1Eh9TXeTI9_3"
      }
    },
    {
      "cell_type": "code",
      "source": [
        "crs = 4326\n",
        "shape = ee.Geometry.Rectangle([LON_MAX,LAT_MIN,LON_MIN,LAT_MAX])\n",
        "\n",
        "\n",
        "soil_era_evaporation = ee.ImageCollection(\"ECMWF/ERA5_LAND/DAILY_AGGR\").filter(ee.Filter.date('2022-01-31', '2022-02-01')).select('volumetric_soil_water_layer_1').mean().clip(shape)\n",
        "\n",
        "soil_era_transpiration = ee.ImageCollection(\"ECMWF/ERA5_LAND/DAILY_AGGR\").filter(ee.Filter.date('2022-01-31', '2022-02-01')).select('volumetric_soil_water_layer_3').mean().clip(shape)\n",
        "\n",
        "soil_era_transition = ee.ImageCollection(\"ECMWF/ERA5_LAND/DAILY_AGGR\").filter(ee.Filter.date('2022-01-31', '2022-02-01')).select('volumetric_soil_water_layer_4').mean().clip(shape)\n",
        "\n",
        "\n",
        "soil_era_evaporation = soil_era_evaporation.set(\"system:time_start\", ee.Date(\"2022-01-31\"))\n",
        "soil_era_transpiration = soil_era_transpiration.set(\"system:time_start\", ee.Date(\"2022-01-31\"))\n",
        "soil_era_transition = soil_era_transition.set(\"system:time_start\", ee.Date(\"2022-01-31\"))\n"
      ],
      "metadata": {
        "id": "2Pf8Fcw4I8MO"
      },
      "execution_count": null,
      "outputs": []
    }
  ],
  "metadata": {
    "language_info": {
      "name": "python"
    },
    "orig_nbformat": 4,
    "colab": {
      "provenance": []
    },
    "kernelspec": {
      "name": "python3",
      "display_name": "Python 3"
    }
  },
  "nbformat": 4,
  "nbformat_minor": 0
}